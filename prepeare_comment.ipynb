{
  "nbformat": 4,
  "nbformat_minor": 0,
  "metadata": {
    "colab": {
      "name": "Final_Lev.ipynb",
      "provenance": [],
      "collapsed_sections": []
    },
    "kernelspec": {
      "name": "python3",
      "display_name": "Python 3"
    },
    "language_info": {
      "name": "python"
    },
    "accelerator": "GPU",
    "widgets": {
      "application/vnd.jupyter.widget-state+json": {
        "f7b88fbd94554eeb919a3c8ee05bad5f": {
          "model_module": "@jupyter-widgets/controls",
          "model_name": "HBoxModel",
          "model_module_version": "1.5.0",
          "state": {
            "_view_name": "HBoxView",
            "_dom_classes": [],
            "_model_name": "HBoxModel",
            "_view_module": "@jupyter-widgets/controls",
            "_model_module_version": "1.5.0",
            "_view_count": null,
            "_view_module_version": "1.5.0",
            "box_style": "",
            "layout": "IPY_MODEL_bf933b15159349a9915765a7e51c4cef",
            "_model_module": "@jupyter-widgets/controls",
            "children": [
              "IPY_MODEL_ced311c9a057400b9fdd4798a880a399",
              "IPY_MODEL_92ff870322fd4c2aa5906864f08c543b",
              "IPY_MODEL_acc72af2b157445f9bb3199b3ccf6759"
            ]
          }
        },
        "bf933b15159349a9915765a7e51c4cef": {
          "model_module": "@jupyter-widgets/base",
          "model_name": "LayoutModel",
          "model_module_version": "1.2.0",
          "state": {
            "_view_name": "LayoutView",
            "grid_template_rows": null,
            "right": null,
            "justify_content": null,
            "_view_module": "@jupyter-widgets/base",
            "overflow": null,
            "_model_module_version": "1.2.0",
            "_view_count": null,
            "flex_flow": null,
            "width": null,
            "min_width": null,
            "border": null,
            "align_items": null,
            "bottom": null,
            "_model_module": "@jupyter-widgets/base",
            "top": null,
            "grid_column": null,
            "overflow_y": null,
            "overflow_x": null,
            "grid_auto_flow": null,
            "grid_area": null,
            "grid_template_columns": null,
            "flex": null,
            "_model_name": "LayoutModel",
            "justify_items": null,
            "grid_row": null,
            "max_height": null,
            "align_content": null,
            "visibility": null,
            "align_self": null,
            "height": null,
            "min_height": null,
            "padding": null,
            "grid_auto_rows": null,
            "grid_gap": null,
            "max_width": null,
            "order": null,
            "_view_module_version": "1.2.0",
            "grid_template_areas": null,
            "object_position": null,
            "object_fit": null,
            "grid_auto_columns": null,
            "margin": null,
            "display": null,
            "left": null
          }
        },
        "ced311c9a057400b9fdd4798a880a399": {
          "model_module": "@jupyter-widgets/controls",
          "model_name": "HTMLModel",
          "model_module_version": "1.5.0",
          "state": {
            "_view_name": "HTMLView",
            "style": "IPY_MODEL_3d53e4c5882c4ba1ab026e7d450e53b5",
            "_dom_classes": [],
            "description": "",
            "_model_name": "HTMLModel",
            "placeholder": "​",
            "_view_module": "@jupyter-widgets/controls",
            "_model_module_version": "1.5.0",
            "value": "Downloading: 100%",
            "_view_count": null,
            "_view_module_version": "1.5.0",
            "description_tooltip": null,
            "_model_module": "@jupyter-widgets/controls",
            "layout": "IPY_MODEL_081eefecc97d48fd959b2bff179aa135"
          }
        },
        "92ff870322fd4c2aa5906864f08c543b": {
          "model_module": "@jupyter-widgets/controls",
          "model_name": "FloatProgressModel",
          "model_module_version": "1.5.0",
          "state": {
            "_view_name": "ProgressView",
            "style": "IPY_MODEL_d987536c08ed4d78915bbdbc370b20fd",
            "_dom_classes": [],
            "description": "",
            "_model_name": "FloatProgressModel",
            "bar_style": "success",
            "max": 540,
            "_view_module": "@jupyter-widgets/controls",
            "_model_module_version": "1.5.0",
            "value": 540,
            "_view_count": null,
            "_view_module_version": "1.5.0",
            "orientation": "horizontal",
            "min": 0,
            "description_tooltip": null,
            "_model_module": "@jupyter-widgets/controls",
            "layout": "IPY_MODEL_56d757a1943d487587e9ceec41e64deb"
          }
        },
        "acc72af2b157445f9bb3199b3ccf6759": {
          "model_module": "@jupyter-widgets/controls",
          "model_name": "HTMLModel",
          "model_module_version": "1.5.0",
          "state": {
            "_view_name": "HTMLView",
            "style": "IPY_MODEL_c2271bbec1a04a5089e58c80c170b196",
            "_dom_classes": [],
            "description": "",
            "_model_name": "HTMLModel",
            "placeholder": "​",
            "_view_module": "@jupyter-widgets/controls",
            "_model_module_version": "1.5.0",
            "value": " 540/540 [00:00&lt;00:00, 9.31kB/s]",
            "_view_count": null,
            "_view_module_version": "1.5.0",
            "description_tooltip": null,
            "_model_module": "@jupyter-widgets/controls",
            "layout": "IPY_MODEL_0e1770940153497d938b9cf164994914"
          }
        },
        "3d53e4c5882c4ba1ab026e7d450e53b5": {
          "model_module": "@jupyter-widgets/controls",
          "model_name": "DescriptionStyleModel",
          "model_module_version": "1.5.0",
          "state": {
            "_view_name": "StyleView",
            "_model_name": "DescriptionStyleModel",
            "description_width": "",
            "_view_module": "@jupyter-widgets/base",
            "_model_module_version": "1.5.0",
            "_view_count": null,
            "_view_module_version": "1.2.0",
            "_model_module": "@jupyter-widgets/controls"
          }
        },
        "081eefecc97d48fd959b2bff179aa135": {
          "model_module": "@jupyter-widgets/base",
          "model_name": "LayoutModel",
          "model_module_version": "1.2.0",
          "state": {
            "_view_name": "LayoutView",
            "grid_template_rows": null,
            "right": null,
            "justify_content": null,
            "_view_module": "@jupyter-widgets/base",
            "overflow": null,
            "_model_module_version": "1.2.0",
            "_view_count": null,
            "flex_flow": null,
            "width": null,
            "min_width": null,
            "border": null,
            "align_items": null,
            "bottom": null,
            "_model_module": "@jupyter-widgets/base",
            "top": null,
            "grid_column": null,
            "overflow_y": null,
            "overflow_x": null,
            "grid_auto_flow": null,
            "grid_area": null,
            "grid_template_columns": null,
            "flex": null,
            "_model_name": "LayoutModel",
            "justify_items": null,
            "grid_row": null,
            "max_height": null,
            "align_content": null,
            "visibility": null,
            "align_self": null,
            "height": null,
            "min_height": null,
            "padding": null,
            "grid_auto_rows": null,
            "grid_gap": null,
            "max_width": null,
            "order": null,
            "_view_module_version": "1.2.0",
            "grid_template_areas": null,
            "object_position": null,
            "object_fit": null,
            "grid_auto_columns": null,
            "margin": null,
            "display": null,
            "left": null
          }
        },
        "d987536c08ed4d78915bbdbc370b20fd": {
          "model_module": "@jupyter-widgets/controls",
          "model_name": "ProgressStyleModel",
          "model_module_version": "1.5.0",
          "state": {
            "_view_name": "StyleView",
            "_model_name": "ProgressStyleModel",
            "description_width": "",
            "_view_module": "@jupyter-widgets/base",
            "_model_module_version": "1.5.0",
            "_view_count": null,
            "_view_module_version": "1.2.0",
            "bar_color": null,
            "_model_module": "@jupyter-widgets/controls"
          }
        },
        "56d757a1943d487587e9ceec41e64deb": {
          "model_module": "@jupyter-widgets/base",
          "model_name": "LayoutModel",
          "model_module_version": "1.2.0",
          "state": {
            "_view_name": "LayoutView",
            "grid_template_rows": null,
            "right": null,
            "justify_content": null,
            "_view_module": "@jupyter-widgets/base",
            "overflow": null,
            "_model_module_version": "1.2.0",
            "_view_count": null,
            "flex_flow": null,
            "width": null,
            "min_width": null,
            "border": null,
            "align_items": null,
            "bottom": null,
            "_model_module": "@jupyter-widgets/base",
            "top": null,
            "grid_column": null,
            "overflow_y": null,
            "overflow_x": null,
            "grid_auto_flow": null,
            "grid_area": null,
            "grid_template_columns": null,
            "flex": null,
            "_model_name": "LayoutModel",
            "justify_items": null,
            "grid_row": null,
            "max_height": null,
            "align_content": null,
            "visibility": null,
            "align_self": null,
            "height": null,
            "min_height": null,
            "padding": null,
            "grid_auto_rows": null,
            "grid_gap": null,
            "max_width": null,
            "order": null,
            "_view_module_version": "1.2.0",
            "grid_template_areas": null,
            "object_position": null,
            "object_fit": null,
            "grid_auto_columns": null,
            "margin": null,
            "display": null,
            "left": null
          }
        },
        "c2271bbec1a04a5089e58c80c170b196": {
          "model_module": "@jupyter-widgets/controls",
          "model_name": "DescriptionStyleModel",
          "model_module_version": "1.5.0",
          "state": {
            "_view_name": "StyleView",
            "_model_name": "DescriptionStyleModel",
            "description_width": "",
            "_view_module": "@jupyter-widgets/base",
            "_model_module_version": "1.5.0",
            "_view_count": null,
            "_view_module_version": "1.2.0",
            "_model_module": "@jupyter-widgets/controls"
          }
        },
        "0e1770940153497d938b9cf164994914": {
          "model_module": "@jupyter-widgets/base",
          "model_name": "LayoutModel",
          "model_module_version": "1.2.0",
          "state": {
            "_view_name": "LayoutView",
            "grid_template_rows": null,
            "right": null,
            "justify_content": null,
            "_view_module": "@jupyter-widgets/base",
            "overflow": null,
            "_model_module_version": "1.2.0",
            "_view_count": null,
            "flex_flow": null,
            "width": null,
            "min_width": null,
            "border": null,
            "align_items": null,
            "bottom": null,
            "_model_module": "@jupyter-widgets/base",
            "top": null,
            "grid_column": null,
            "overflow_y": null,
            "overflow_x": null,
            "grid_auto_flow": null,
            "grid_area": null,
            "grid_template_columns": null,
            "flex": null,
            "_model_name": "LayoutModel",
            "justify_items": null,
            "grid_row": null,
            "max_height": null,
            "align_content": null,
            "visibility": null,
            "align_self": null,
            "height": null,
            "min_height": null,
            "padding": null,
            "grid_auto_rows": null,
            "grid_gap": null,
            "max_width": null,
            "order": null,
            "_view_module_version": "1.2.0",
            "grid_template_areas": null,
            "object_position": null,
            "object_fit": null,
            "grid_auto_columns": null,
            "margin": null,
            "display": null,
            "left": null
          }
        },
        "5738b540428949379346c32ba0b046a8": {
          "model_module": "@jupyter-widgets/controls",
          "model_name": "HBoxModel",
          "model_module_version": "1.5.0",
          "state": {
            "_view_name": "HBoxView",
            "_dom_classes": [],
            "_model_name": "HBoxModel",
            "_view_module": "@jupyter-widgets/controls",
            "_model_module_version": "1.5.0",
            "_view_count": null,
            "_view_module_version": "1.5.0",
            "box_style": "",
            "layout": "IPY_MODEL_16b936c5478346b59189ba9b3832ff09",
            "_model_module": "@jupyter-widgets/controls",
            "children": [
              "IPY_MODEL_63652d81ac6f40b2be9c8ba2f8c7366d",
              "IPY_MODEL_1e4212c513044c1b8b611fa987191d85",
              "IPY_MODEL_3f6fd66b9c92450ba813df23eeb651e9"
            ]
          }
        },
        "16b936c5478346b59189ba9b3832ff09": {
          "model_module": "@jupyter-widgets/base",
          "model_name": "LayoutModel",
          "model_module_version": "1.2.0",
          "state": {
            "_view_name": "LayoutView",
            "grid_template_rows": null,
            "right": null,
            "justify_content": null,
            "_view_module": "@jupyter-widgets/base",
            "overflow": null,
            "_model_module_version": "1.2.0",
            "_view_count": null,
            "flex_flow": null,
            "width": null,
            "min_width": null,
            "border": null,
            "align_items": null,
            "bottom": null,
            "_model_module": "@jupyter-widgets/base",
            "top": null,
            "grid_column": null,
            "overflow_y": null,
            "overflow_x": null,
            "grid_auto_flow": null,
            "grid_area": null,
            "grid_template_columns": null,
            "flex": null,
            "_model_name": "LayoutModel",
            "justify_items": null,
            "grid_row": null,
            "max_height": null,
            "align_content": null,
            "visibility": null,
            "align_self": null,
            "height": null,
            "min_height": null,
            "padding": null,
            "grid_auto_rows": null,
            "grid_gap": null,
            "max_width": null,
            "order": null,
            "_view_module_version": "1.2.0",
            "grid_template_areas": null,
            "object_position": null,
            "object_fit": null,
            "grid_auto_columns": null,
            "margin": null,
            "display": null,
            "left": null
          }
        },
        "63652d81ac6f40b2be9c8ba2f8c7366d": {
          "model_module": "@jupyter-widgets/controls",
          "model_name": "HTMLModel",
          "model_module_version": "1.5.0",
          "state": {
            "_view_name": "HTMLView",
            "style": "IPY_MODEL_72658c42598447eabca95365f647beea",
            "_dom_classes": [],
            "description": "",
            "_model_name": "HTMLModel",
            "placeholder": "​",
            "_view_module": "@jupyter-widgets/controls",
            "_model_module_version": "1.5.0",
            "value": "Downloading: 100%",
            "_view_count": null,
            "_view_module_version": "1.5.0",
            "description_tooltip": null,
            "_model_module": "@jupyter-widgets/controls",
            "layout": "IPY_MODEL_edebbe824f9645dda6b8087b59c868e2"
          }
        },
        "1e4212c513044c1b8b611fa987191d85": {
          "model_module": "@jupyter-widgets/controls",
          "model_name": "FloatProgressModel",
          "model_module_version": "1.5.0",
          "state": {
            "_view_name": "ProgressView",
            "style": "IPY_MODEL_1a09f9e7cd9443f0adacdd3ec6da11e4",
            "_dom_classes": [],
            "description": "",
            "_model_name": "FloatProgressModel",
            "bar_style": "success",
            "max": 920,
            "_view_module": "@jupyter-widgets/controls",
            "_model_module_version": "1.5.0",
            "value": 920,
            "_view_count": null,
            "_view_module_version": "1.5.0",
            "orientation": "horizontal",
            "min": 0,
            "description_tooltip": null,
            "_model_module": "@jupyter-widgets/controls",
            "layout": "IPY_MODEL_2187bd2ef1114df397b694a9c4bc5d3c"
          }
        },
        "3f6fd66b9c92450ba813df23eeb651e9": {
          "model_module": "@jupyter-widgets/controls",
          "model_name": "HTMLModel",
          "model_module_version": "1.5.0",
          "state": {
            "_view_name": "HTMLView",
            "style": "IPY_MODEL_9d73647d769349ab98d8e647d84fea0f",
            "_dom_classes": [],
            "description": "",
            "_model_name": "HTMLModel",
            "placeholder": "​",
            "_view_module": "@jupyter-widgets/controls",
            "_model_module_version": "1.5.0",
            "value": " 920/920 [00:00&lt;00:00, 21.6kB/s]",
            "_view_count": null,
            "_view_module_version": "1.5.0",
            "description_tooltip": null,
            "_model_module": "@jupyter-widgets/controls",
            "layout": "IPY_MODEL_abf56600c6cc4cdbb4d5e1aa9b6eb753"
          }
        },
        "72658c42598447eabca95365f647beea": {
          "model_module": "@jupyter-widgets/controls",
          "model_name": "DescriptionStyleModel",
          "model_module_version": "1.5.0",
          "state": {
            "_view_name": "StyleView",
            "_model_name": "DescriptionStyleModel",
            "description_width": "",
            "_view_module": "@jupyter-widgets/base",
            "_model_module_version": "1.5.0",
            "_view_count": null,
            "_view_module_version": "1.2.0",
            "_model_module": "@jupyter-widgets/controls"
          }
        },
        "edebbe824f9645dda6b8087b59c868e2": {
          "model_module": "@jupyter-widgets/base",
          "model_name": "LayoutModel",
          "model_module_version": "1.2.0",
          "state": {
            "_view_name": "LayoutView",
            "grid_template_rows": null,
            "right": null,
            "justify_content": null,
            "_view_module": "@jupyter-widgets/base",
            "overflow": null,
            "_model_module_version": "1.2.0",
            "_view_count": null,
            "flex_flow": null,
            "width": null,
            "min_width": null,
            "border": null,
            "align_items": null,
            "bottom": null,
            "_model_module": "@jupyter-widgets/base",
            "top": null,
            "grid_column": null,
            "overflow_y": null,
            "overflow_x": null,
            "grid_auto_flow": null,
            "grid_area": null,
            "grid_template_columns": null,
            "flex": null,
            "_model_name": "LayoutModel",
            "justify_items": null,
            "grid_row": null,
            "max_height": null,
            "align_content": null,
            "visibility": null,
            "align_self": null,
            "height": null,
            "min_height": null,
            "padding": null,
            "grid_auto_rows": null,
            "grid_gap": null,
            "max_width": null,
            "order": null,
            "_view_module_version": "1.2.0",
            "grid_template_areas": null,
            "object_position": null,
            "object_fit": null,
            "grid_auto_columns": null,
            "margin": null,
            "display": null,
            "left": null
          }
        },
        "1a09f9e7cd9443f0adacdd3ec6da11e4": {
          "model_module": "@jupyter-widgets/controls",
          "model_name": "ProgressStyleModel",
          "model_module_version": "1.5.0",
          "state": {
            "_view_name": "StyleView",
            "_model_name": "ProgressStyleModel",
            "description_width": "",
            "_view_module": "@jupyter-widgets/base",
            "_model_module_version": "1.5.0",
            "_view_count": null,
            "_view_module_version": "1.2.0",
            "bar_color": null,
            "_model_module": "@jupyter-widgets/controls"
          }
        },
        "2187bd2ef1114df397b694a9c4bc5d3c": {
          "model_module": "@jupyter-widgets/base",
          "model_name": "LayoutModel",
          "model_module_version": "1.2.0",
          "state": {
            "_view_name": "LayoutView",
            "grid_template_rows": null,
            "right": null,
            "justify_content": null,
            "_view_module": "@jupyter-widgets/base",
            "overflow": null,
            "_model_module_version": "1.2.0",
            "_view_count": null,
            "flex_flow": null,
            "width": null,
            "min_width": null,
            "border": null,
            "align_items": null,
            "bottom": null,
            "_model_module": "@jupyter-widgets/base",
            "top": null,
            "grid_column": null,
            "overflow_y": null,
            "overflow_x": null,
            "grid_auto_flow": null,
            "grid_area": null,
            "grid_template_columns": null,
            "flex": null,
            "_model_name": "LayoutModel",
            "justify_items": null,
            "grid_row": null,
            "max_height": null,
            "align_content": null,
            "visibility": null,
            "align_self": null,
            "height": null,
            "min_height": null,
            "padding": null,
            "grid_auto_rows": null,
            "grid_gap": null,
            "max_width": null,
            "order": null,
            "_view_module_version": "1.2.0",
            "grid_template_areas": null,
            "object_position": null,
            "object_fit": null,
            "grid_auto_columns": null,
            "margin": null,
            "display": null,
            "left": null
          }
        },
        "9d73647d769349ab98d8e647d84fea0f": {
          "model_module": "@jupyter-widgets/controls",
          "model_name": "DescriptionStyleModel",
          "model_module_version": "1.5.0",
          "state": {
            "_view_name": "StyleView",
            "_model_name": "DescriptionStyleModel",
            "description_width": "",
            "_view_module": "@jupyter-widgets/base",
            "_model_module_version": "1.5.0",
            "_view_count": null,
            "_view_module_version": "1.2.0",
            "_model_module": "@jupyter-widgets/controls"
          }
        },
        "abf56600c6cc4cdbb4d5e1aa9b6eb753": {
          "model_module": "@jupyter-widgets/base",
          "model_name": "LayoutModel",
          "model_module_version": "1.2.0",
          "state": {
            "_view_name": "LayoutView",
            "grid_template_rows": null,
            "right": null,
            "justify_content": null,
            "_view_module": "@jupyter-widgets/base",
            "overflow": null,
            "_model_module_version": "1.2.0",
            "_view_count": null,
            "flex_flow": null,
            "width": null,
            "min_width": null,
            "border": null,
            "align_items": null,
            "bottom": null,
            "_model_module": "@jupyter-widgets/base",
            "top": null,
            "grid_column": null,
            "overflow_y": null,
            "overflow_x": null,
            "grid_auto_flow": null,
            "grid_area": null,
            "grid_template_columns": null,
            "flex": null,
            "_model_name": "LayoutModel",
            "justify_items": null,
            "grid_row": null,
            "max_height": null,
            "align_content": null,
            "visibility": null,
            "align_self": null,
            "height": null,
            "min_height": null,
            "padding": null,
            "grid_auto_rows": null,
            "grid_gap": null,
            "max_width": null,
            "order": null,
            "_view_module_version": "1.2.0",
            "grid_template_areas": null,
            "object_position": null,
            "object_fit": null,
            "grid_auto_columns": null,
            "margin": null,
            "display": null,
            "left": null
          }
        },
        "215aeea6cdd14947b47dc73394227707": {
          "model_module": "@jupyter-widgets/controls",
          "model_name": "HBoxModel",
          "model_module_version": "1.5.0",
          "state": {
            "_view_name": "HBoxView",
            "_dom_classes": [],
            "_model_name": "HBoxModel",
            "_view_module": "@jupyter-widgets/controls",
            "_model_module_version": "1.5.0",
            "_view_count": null,
            "_view_module_version": "1.5.0",
            "box_style": "",
            "layout": "IPY_MODEL_e9a104a566404f87a8f38990c9692047",
            "_model_module": "@jupyter-widgets/controls",
            "children": [
              "IPY_MODEL_fa3ffdb17d714bd4bc75502809790f3d",
              "IPY_MODEL_3605ddc70e0b4a0aa64093834d492f74",
              "IPY_MODEL_3d4f6979aa9f4d30adb4cc3a80749c03"
            ]
          }
        },
        "e9a104a566404f87a8f38990c9692047": {
          "model_module": "@jupyter-widgets/base",
          "model_name": "LayoutModel",
          "model_module_version": "1.2.0",
          "state": {
            "_view_name": "LayoutView",
            "grid_template_rows": null,
            "right": null,
            "justify_content": null,
            "_view_module": "@jupyter-widgets/base",
            "overflow": null,
            "_model_module_version": "1.2.0",
            "_view_count": null,
            "flex_flow": null,
            "width": null,
            "min_width": null,
            "border": null,
            "align_items": null,
            "bottom": null,
            "_model_module": "@jupyter-widgets/base",
            "top": null,
            "grid_column": null,
            "overflow_y": null,
            "overflow_x": null,
            "grid_auto_flow": null,
            "grid_area": null,
            "grid_template_columns": null,
            "flex": null,
            "_model_name": "LayoutModel",
            "justify_items": null,
            "grid_row": null,
            "max_height": null,
            "align_content": null,
            "visibility": null,
            "align_self": null,
            "height": null,
            "min_height": null,
            "padding": null,
            "grid_auto_rows": null,
            "grid_gap": null,
            "max_width": null,
            "order": null,
            "_view_module_version": "1.2.0",
            "grid_template_areas": null,
            "object_position": null,
            "object_fit": null,
            "grid_auto_columns": null,
            "margin": null,
            "display": null,
            "left": null
          }
        },
        "fa3ffdb17d714bd4bc75502809790f3d": {
          "model_module": "@jupyter-widgets/controls",
          "model_name": "HTMLModel",
          "model_module_version": "1.5.0",
          "state": {
            "_view_name": "HTMLView",
            "style": "IPY_MODEL_d2c3c7194c954aa1a7998b688c9ad7ea",
            "_dom_classes": [],
            "description": "",
            "_model_name": "HTMLModel",
            "placeholder": "​",
            "_view_module": "@jupyter-widgets/controls",
            "_model_module_version": "1.5.0",
            "value": "Downloading: 100%",
            "_view_count": null,
            "_view_module_version": "1.5.0",
            "description_tooltip": null,
            "_model_module": "@jupyter-widgets/controls",
            "layout": "IPY_MODEL_bcdf0d7ab220465db6d9103ac9136c05"
          }
        },
        "3605ddc70e0b4a0aa64093834d492f74": {
          "model_module": "@jupyter-widgets/controls",
          "model_name": "FloatProgressModel",
          "model_module_version": "1.5.0",
          "state": {
            "_view_name": "ProgressView",
            "style": "IPY_MODEL_3444224e9ae344e98aab0272e1ae8712",
            "_dom_classes": [],
            "description": "",
            "_model_name": "FloatProgressModel",
            "bar_style": "success",
            "max": 1649718,
            "_view_module": "@jupyter-widgets/controls",
            "_model_module_version": "1.5.0",
            "value": 1649718,
            "_view_count": null,
            "_view_module_version": "1.5.0",
            "orientation": "horizontal",
            "min": 0,
            "description_tooltip": null,
            "_model_module": "@jupyter-widgets/controls",
            "layout": "IPY_MODEL_c870558971ba4a389585521450d88046"
          }
        },
        "3d4f6979aa9f4d30adb4cc3a80749c03": {
          "model_module": "@jupyter-widgets/controls",
          "model_name": "HTMLModel",
          "model_module_version": "1.5.0",
          "state": {
            "_view_name": "HTMLView",
            "style": "IPY_MODEL_1e0404cae5f74f3c83813bd9ce18810d",
            "_dom_classes": [],
            "description": "",
            "_model_name": "HTMLModel",
            "placeholder": "​",
            "_view_module": "@jupyter-widgets/controls",
            "_model_module_version": "1.5.0",
            "value": " 1.57M/1.57M [00:00&lt;00:00, 1.06MB/s]",
            "_view_count": null,
            "_view_module_version": "1.5.0",
            "description_tooltip": null,
            "_model_module": "@jupyter-widgets/controls",
            "layout": "IPY_MODEL_723ee907d0de418381f0516ec7f0925d"
          }
        },
        "d2c3c7194c954aa1a7998b688c9ad7ea": {
          "model_module": "@jupyter-widgets/controls",
          "model_name": "DescriptionStyleModel",
          "model_module_version": "1.5.0",
          "state": {
            "_view_name": "StyleView",
            "_model_name": "DescriptionStyleModel",
            "description_width": "",
            "_view_module": "@jupyter-widgets/base",
            "_model_module_version": "1.5.0",
            "_view_count": null,
            "_view_module_version": "1.2.0",
            "_model_module": "@jupyter-widgets/controls"
          }
        },
        "bcdf0d7ab220465db6d9103ac9136c05": {
          "model_module": "@jupyter-widgets/base",
          "model_name": "LayoutModel",
          "model_module_version": "1.2.0",
          "state": {
            "_view_name": "LayoutView",
            "grid_template_rows": null,
            "right": null,
            "justify_content": null,
            "_view_module": "@jupyter-widgets/base",
            "overflow": null,
            "_model_module_version": "1.2.0",
            "_view_count": null,
            "flex_flow": null,
            "width": null,
            "min_width": null,
            "border": null,
            "align_items": null,
            "bottom": null,
            "_model_module": "@jupyter-widgets/base",
            "top": null,
            "grid_column": null,
            "overflow_y": null,
            "overflow_x": null,
            "grid_auto_flow": null,
            "grid_area": null,
            "grid_template_columns": null,
            "flex": null,
            "_model_name": "LayoutModel",
            "justify_items": null,
            "grid_row": null,
            "max_height": null,
            "align_content": null,
            "visibility": null,
            "align_self": null,
            "height": null,
            "min_height": null,
            "padding": null,
            "grid_auto_rows": null,
            "grid_gap": null,
            "max_width": null,
            "order": null,
            "_view_module_version": "1.2.0",
            "grid_template_areas": null,
            "object_position": null,
            "object_fit": null,
            "grid_auto_columns": null,
            "margin": null,
            "display": null,
            "left": null
          }
        },
        "3444224e9ae344e98aab0272e1ae8712": {
          "model_module": "@jupyter-widgets/controls",
          "model_name": "ProgressStyleModel",
          "model_module_version": "1.5.0",
          "state": {
            "_view_name": "StyleView",
            "_model_name": "ProgressStyleModel",
            "description_width": "",
            "_view_module": "@jupyter-widgets/base",
            "_model_module_version": "1.5.0",
            "_view_count": null,
            "_view_module_version": "1.2.0",
            "bar_color": null,
            "_model_module": "@jupyter-widgets/controls"
          }
        },
        "c870558971ba4a389585521450d88046": {
          "model_module": "@jupyter-widgets/base",
          "model_name": "LayoutModel",
          "model_module_version": "1.2.0",
          "state": {
            "_view_name": "LayoutView",
            "grid_template_rows": null,
            "right": null,
            "justify_content": null,
            "_view_module": "@jupyter-widgets/base",
            "overflow": null,
            "_model_module_version": "1.2.0",
            "_view_count": null,
            "flex_flow": null,
            "width": null,
            "min_width": null,
            "border": null,
            "align_items": null,
            "bottom": null,
            "_model_module": "@jupyter-widgets/base",
            "top": null,
            "grid_column": null,
            "overflow_y": null,
            "overflow_x": null,
            "grid_auto_flow": null,
            "grid_area": null,
            "grid_template_columns": null,
            "flex": null,
            "_model_name": "LayoutModel",
            "justify_items": null,
            "grid_row": null,
            "max_height": null,
            "align_content": null,
            "visibility": null,
            "align_self": null,
            "height": null,
            "min_height": null,
            "padding": null,
            "grid_auto_rows": null,
            "grid_gap": null,
            "max_width": null,
            "order": null,
            "_view_module_version": "1.2.0",
            "grid_template_areas": null,
            "object_position": null,
            "object_fit": null,
            "grid_auto_columns": null,
            "margin": null,
            "display": null,
            "left": null
          }
        },
        "1e0404cae5f74f3c83813bd9ce18810d": {
          "model_module": "@jupyter-widgets/controls",
          "model_name": "DescriptionStyleModel",
          "model_module_version": "1.5.0",
          "state": {
            "_view_name": "StyleView",
            "_model_name": "DescriptionStyleModel",
            "description_width": "",
            "_view_module": "@jupyter-widgets/base",
            "_model_module_version": "1.5.0",
            "_view_count": null,
            "_view_module_version": "1.2.0",
            "_model_module": "@jupyter-widgets/controls"
          }
        },
        "723ee907d0de418381f0516ec7f0925d": {
          "model_module": "@jupyter-widgets/base",
          "model_name": "LayoutModel",
          "model_module_version": "1.2.0",
          "state": {
            "_view_name": "LayoutView",
            "grid_template_rows": null,
            "right": null,
            "justify_content": null,
            "_view_module": "@jupyter-widgets/base",
            "overflow": null,
            "_model_module_version": "1.2.0",
            "_view_count": null,
            "flex_flow": null,
            "width": null,
            "min_width": null,
            "border": null,
            "align_items": null,
            "bottom": null,
            "_model_module": "@jupyter-widgets/base",
            "top": null,
            "grid_column": null,
            "overflow_y": null,
            "overflow_x": null,
            "grid_auto_flow": null,
            "grid_area": null,
            "grid_template_columns": null,
            "flex": null,
            "_model_name": "LayoutModel",
            "justify_items": null,
            "grid_row": null,
            "max_height": null,
            "align_content": null,
            "visibility": null,
            "align_self": null,
            "height": null,
            "min_height": null,
            "padding": null,
            "grid_auto_rows": null,
            "grid_gap": null,
            "max_width": null,
            "order": null,
            "_view_module_version": "1.2.0",
            "grid_template_areas": null,
            "object_position": null,
            "object_fit": null,
            "grid_auto_columns": null,
            "margin": null,
            "display": null,
            "left": null
          }
        },
        "83bfa60161304a2aaffd09314d775a5a": {
          "model_module": "@jupyter-widgets/controls",
          "model_name": "HBoxModel",
          "model_module_version": "1.5.0",
          "state": {
            "_view_name": "HBoxView",
            "_dom_classes": [],
            "_model_name": "HBoxModel",
            "_view_module": "@jupyter-widgets/controls",
            "_model_module_version": "1.5.0",
            "_view_count": null,
            "_view_module_version": "1.5.0",
            "box_style": "",
            "layout": "IPY_MODEL_1b482c43717a4ddca61296ba3375e1c0",
            "_model_module": "@jupyter-widgets/controls",
            "children": [
              "IPY_MODEL_7ce5043812224520842f7f20f3ba7554",
              "IPY_MODEL_7061e98fc00e4436a27da7cc69068819",
              "IPY_MODEL_ec8a62964cbe4e48b48d837dbae087a1"
            ]
          }
        },
        "1b482c43717a4ddca61296ba3375e1c0": {
          "model_module": "@jupyter-widgets/base",
          "model_name": "LayoutModel",
          "model_module_version": "1.2.0",
          "state": {
            "_view_name": "LayoutView",
            "grid_template_rows": null,
            "right": null,
            "justify_content": null,
            "_view_module": "@jupyter-widgets/base",
            "overflow": null,
            "_model_module_version": "1.2.0",
            "_view_count": null,
            "flex_flow": null,
            "width": null,
            "min_width": null,
            "border": null,
            "align_items": null,
            "bottom": null,
            "_model_module": "@jupyter-widgets/base",
            "top": null,
            "grid_column": null,
            "overflow_y": null,
            "overflow_x": null,
            "grid_auto_flow": null,
            "grid_area": null,
            "grid_template_columns": null,
            "flex": null,
            "_model_name": "LayoutModel",
            "justify_items": null,
            "grid_row": null,
            "max_height": null,
            "align_content": null,
            "visibility": null,
            "align_self": null,
            "height": null,
            "min_height": null,
            "padding": null,
            "grid_auto_rows": null,
            "grid_gap": null,
            "max_width": null,
            "order": null,
            "_view_module_version": "1.2.0",
            "grid_template_areas": null,
            "object_position": null,
            "object_fit": null,
            "grid_auto_columns": null,
            "margin": null,
            "display": null,
            "left": null
          }
        },
        "7ce5043812224520842f7f20f3ba7554": {
          "model_module": "@jupyter-widgets/controls",
          "model_name": "HTMLModel",
          "model_module_version": "1.5.0",
          "state": {
            "_view_name": "HTMLView",
            "style": "IPY_MODEL_fdb9a56de57c4bed8d715326fcce1169",
            "_dom_classes": [],
            "description": "",
            "_model_name": "HTMLModel",
            "placeholder": "​",
            "_view_module": "@jupyter-widgets/controls",
            "_model_module_version": "1.5.0",
            "value": "Downloading: 100%",
            "_view_count": null,
            "_view_module_version": "1.5.0",
            "description_tooltip": null,
            "_model_module": "@jupyter-widgets/controls",
            "layout": "IPY_MODEL_0e051bc6ac514c56b972c71e8fedf4a2"
          }
        },
        "7061e98fc00e4436a27da7cc69068819": {
          "model_module": "@jupyter-widgets/controls",
          "model_name": "FloatProgressModel",
          "model_module_version": "1.5.0",
          "state": {
            "_view_name": "ProgressView",
            "style": "IPY_MODEL_6b049f2111434eb38fa7e0d8489ff923",
            "_dom_classes": [],
            "description": "",
            "_model_name": "FloatProgressModel",
            "bar_style": "success",
            "max": 112,
            "_view_module": "@jupyter-widgets/controls",
            "_model_module_version": "1.5.0",
            "value": 112,
            "_view_count": null,
            "_view_module_version": "1.5.0",
            "orientation": "horizontal",
            "min": 0,
            "description_tooltip": null,
            "_model_module": "@jupyter-widgets/controls",
            "layout": "IPY_MODEL_adea7ffd2a254ca4ab726e08f1777c5b"
          }
        },
        "ec8a62964cbe4e48b48d837dbae087a1": {
          "model_module": "@jupyter-widgets/controls",
          "model_name": "HTMLModel",
          "model_module_version": "1.5.0",
          "state": {
            "_view_name": "HTMLView",
            "style": "IPY_MODEL_07d9bb67cf9148219773f79bd389545d",
            "_dom_classes": [],
            "description": "",
            "_model_name": "HTMLModel",
            "placeholder": "​",
            "_view_module": "@jupyter-widgets/controls",
            "_model_module_version": "1.5.0",
            "value": " 112/112 [00:00&lt;00:00, 2.69kB/s]",
            "_view_count": null,
            "_view_module_version": "1.5.0",
            "description_tooltip": null,
            "_model_module": "@jupyter-widgets/controls",
            "layout": "IPY_MODEL_cfc3adf3d28642d9a77471c1fb004973"
          }
        },
        "fdb9a56de57c4bed8d715326fcce1169": {
          "model_module": "@jupyter-widgets/controls",
          "model_name": "DescriptionStyleModel",
          "model_module_version": "1.5.0",
          "state": {
            "_view_name": "StyleView",
            "_model_name": "DescriptionStyleModel",
            "description_width": "",
            "_view_module": "@jupyter-widgets/base",
            "_model_module_version": "1.5.0",
            "_view_count": null,
            "_view_module_version": "1.2.0",
            "_model_module": "@jupyter-widgets/controls"
          }
        },
        "0e051bc6ac514c56b972c71e8fedf4a2": {
          "model_module": "@jupyter-widgets/base",
          "model_name": "LayoutModel",
          "model_module_version": "1.2.0",
          "state": {
            "_view_name": "LayoutView",
            "grid_template_rows": null,
            "right": null,
            "justify_content": null,
            "_view_module": "@jupyter-widgets/base",
            "overflow": null,
            "_model_module_version": "1.2.0",
            "_view_count": null,
            "flex_flow": null,
            "width": null,
            "min_width": null,
            "border": null,
            "align_items": null,
            "bottom": null,
            "_model_module": "@jupyter-widgets/base",
            "top": null,
            "grid_column": null,
            "overflow_y": null,
            "overflow_x": null,
            "grid_auto_flow": null,
            "grid_area": null,
            "grid_template_columns": null,
            "flex": null,
            "_model_name": "LayoutModel",
            "justify_items": null,
            "grid_row": null,
            "max_height": null,
            "align_content": null,
            "visibility": null,
            "align_self": null,
            "height": null,
            "min_height": null,
            "padding": null,
            "grid_auto_rows": null,
            "grid_gap": null,
            "max_width": null,
            "order": null,
            "_view_module_version": "1.2.0",
            "grid_template_areas": null,
            "object_position": null,
            "object_fit": null,
            "grid_auto_columns": null,
            "margin": null,
            "display": null,
            "left": null
          }
        },
        "6b049f2111434eb38fa7e0d8489ff923": {
          "model_module": "@jupyter-widgets/controls",
          "model_name": "ProgressStyleModel",
          "model_module_version": "1.5.0",
          "state": {
            "_view_name": "StyleView",
            "_model_name": "ProgressStyleModel",
            "description_width": "",
            "_view_module": "@jupyter-widgets/base",
            "_model_module_version": "1.5.0",
            "_view_count": null,
            "_view_module_version": "1.2.0",
            "bar_color": null,
            "_model_module": "@jupyter-widgets/controls"
          }
        },
        "adea7ffd2a254ca4ab726e08f1777c5b": {
          "model_module": "@jupyter-widgets/base",
          "model_name": "LayoutModel",
          "model_module_version": "1.2.0",
          "state": {
            "_view_name": "LayoutView",
            "grid_template_rows": null,
            "right": null,
            "justify_content": null,
            "_view_module": "@jupyter-widgets/base",
            "overflow": null,
            "_model_module_version": "1.2.0",
            "_view_count": null,
            "flex_flow": null,
            "width": null,
            "min_width": null,
            "border": null,
            "align_items": null,
            "bottom": null,
            "_model_module": "@jupyter-widgets/base",
            "top": null,
            "grid_column": null,
            "overflow_y": null,
            "overflow_x": null,
            "grid_auto_flow": null,
            "grid_area": null,
            "grid_template_columns": null,
            "flex": null,
            "_model_name": "LayoutModel",
            "justify_items": null,
            "grid_row": null,
            "max_height": null,
            "align_content": null,
            "visibility": null,
            "align_self": null,
            "height": null,
            "min_height": null,
            "padding": null,
            "grid_auto_rows": null,
            "grid_gap": null,
            "max_width": null,
            "order": null,
            "_view_module_version": "1.2.0",
            "grid_template_areas": null,
            "object_position": null,
            "object_fit": null,
            "grid_auto_columns": null,
            "margin": null,
            "display": null,
            "left": null
          }
        },
        "07d9bb67cf9148219773f79bd389545d": {
          "model_module": "@jupyter-widgets/controls",
          "model_name": "DescriptionStyleModel",
          "model_module_version": "1.5.0",
          "state": {
            "_view_name": "StyleView",
            "_model_name": "DescriptionStyleModel",
            "description_width": "",
            "_view_module": "@jupyter-widgets/base",
            "_model_module_version": "1.5.0",
            "_view_count": null,
            "_view_module_version": "1.2.0",
            "_model_module": "@jupyter-widgets/controls"
          }
        },
        "cfc3adf3d28642d9a77471c1fb004973": {
          "model_module": "@jupyter-widgets/base",
          "model_name": "LayoutModel",
          "model_module_version": "1.2.0",
          "state": {
            "_view_name": "LayoutView",
            "grid_template_rows": null,
            "right": null,
            "justify_content": null,
            "_view_module": "@jupyter-widgets/base",
            "overflow": null,
            "_model_module_version": "1.2.0",
            "_view_count": null,
            "flex_flow": null,
            "width": null,
            "min_width": null,
            "border": null,
            "align_items": null,
            "bottom": null,
            "_model_module": "@jupyter-widgets/base",
            "top": null,
            "grid_column": null,
            "overflow_y": null,
            "overflow_x": null,
            "grid_auto_flow": null,
            "grid_area": null,
            "grid_template_columns": null,
            "flex": null,
            "_model_name": "LayoutModel",
            "justify_items": null,
            "grid_row": null,
            "max_height": null,
            "align_content": null,
            "visibility": null,
            "align_self": null,
            "height": null,
            "min_height": null,
            "padding": null,
            "grid_auto_rows": null,
            "grid_gap": null,
            "max_width": null,
            "order": null,
            "_view_module_version": "1.2.0",
            "grid_template_areas": null,
            "object_position": null,
            "object_fit": null,
            "grid_auto_columns": null,
            "margin": null,
            "display": null,
            "left": null
          }
        }
      }
    }
  },
  "cells": [
    {
      "cell_type": "code",
      "metadata": {
        "colab": {
          "base_uri": "https://localhost:8080/"
        },
        "id": "HsZ-GV-ii4T9",
        "outputId": "1afc00f3-89cd-412e-c43d-c2da3f2e68f8"
      },
      "source": [
        "from google.colab import drive\n",
        "drive.mount('/content/drive')"
      ],
      "execution_count": 4,
      "outputs": [
        {
          "output_type": "stream",
          "name": "stdout",
          "text": [
            "Mounted at /content/drive\n"
          ]
        }
      ]
    },
    {
      "cell_type": "code",
      "metadata": {
        "colab": {
          "base_uri": "https://localhost:8080/"
        },
        "id": "ErI_sjTEi1Gk",
        "outputId": "f79cd53b-aebc-407b-f7f2-604f3caff961"
      },
      "source": [
        "!pip install pymorphy2\n",
        "!pip install catboost\n",
        "!pip install transformers\n",
        "!pip install sentencepiece\n",
        "!pip install torch"
      ],
      "execution_count": 50,
      "outputs": [
        {
          "output_type": "stream",
          "name": "stdout",
          "text": [
            "Collecting pymorphy2\n",
            "  Downloading pymorphy2-0.9.1-py3-none-any.whl (55 kB)\n",
            "\u001b[?25l\r\u001b[K     |██████                          | 10 kB 27.7 MB/s eta 0:00:01\r\u001b[K     |███████████▉                    | 20 kB 28.2 MB/s eta 0:00:01\r\u001b[K     |█████████████████▊              | 30 kB 12.2 MB/s eta 0:00:01\r\u001b[K     |███████████████████████▋        | 40 kB 9.6 MB/s eta 0:00:01\r\u001b[K     |█████████████████████████████▌  | 51 kB 5.2 MB/s eta 0:00:01\r\u001b[K     |████████████████████████████████| 55 kB 2.4 MB/s \n",
            "\u001b[?25hCollecting pymorphy2-dicts-ru<3.0,>=2.4\n",
            "  Downloading pymorphy2_dicts_ru-2.4.417127.4579844-py2.py3-none-any.whl (8.2 MB)\n",
            "\u001b[K     |████████████████████████████████| 8.2 MB 10.2 MB/s \n",
            "\u001b[?25hRequirement already satisfied: docopt>=0.6 in /usr/local/lib/python3.7/dist-packages (from pymorphy2) (0.6.2)\n",
            "Collecting dawg-python>=0.7.1\n",
            "  Downloading DAWG_Python-0.7.2-py2.py3-none-any.whl (11 kB)\n",
            "Installing collected packages: pymorphy2-dicts-ru, dawg-python, pymorphy2\n",
            "Successfully installed dawg-python-0.7.2 pymorphy2-0.9.1 pymorphy2-dicts-ru-2.4.417127.4579844\n",
            "Collecting catboost\n",
            "  Downloading catboost-1.0.0-cp37-none-manylinux1_x86_64.whl (76.4 MB)\n",
            "\u001b[K     |████████████████████████████████| 76.4 MB 38 kB/s \n",
            "\u001b[?25hRequirement already satisfied: numpy>=1.16.0 in /usr/local/lib/python3.7/dist-packages (from catboost) (1.19.5)\n",
            "Requirement already satisfied: scipy in /usr/local/lib/python3.7/dist-packages (from catboost) (1.4.1)\n",
            "Requirement already satisfied: graphviz in /usr/local/lib/python3.7/dist-packages (from catboost) (0.10.1)\n",
            "Requirement already satisfied: matplotlib in /usr/local/lib/python3.7/dist-packages (from catboost) (3.2.2)\n",
            "Requirement already satisfied: plotly in /usr/local/lib/python3.7/dist-packages (from catboost) (4.4.1)\n",
            "Requirement already satisfied: six in /usr/local/lib/python3.7/dist-packages (from catboost) (1.15.0)\n",
            "Requirement already satisfied: pandas>=0.24.0 in /usr/local/lib/python3.7/dist-packages (from catboost) (1.1.5)\n",
            "Requirement already satisfied: pytz>=2017.2 in /usr/local/lib/python3.7/dist-packages (from pandas>=0.24.0->catboost) (2018.9)\n",
            "Requirement already satisfied: python-dateutil>=2.7.3 in /usr/local/lib/python3.7/dist-packages (from pandas>=0.24.0->catboost) (2.8.2)\n",
            "Requirement already satisfied: kiwisolver>=1.0.1 in /usr/local/lib/python3.7/dist-packages (from matplotlib->catboost) (1.3.2)\n",
            "Requirement already satisfied: cycler>=0.10 in /usr/local/lib/python3.7/dist-packages (from matplotlib->catboost) (0.10.0)\n",
            "Requirement already satisfied: pyparsing!=2.0.4,!=2.1.2,!=2.1.6,>=2.0.1 in /usr/local/lib/python3.7/dist-packages (from matplotlib->catboost) (2.4.7)\n",
            "Requirement already satisfied: retrying>=1.3.3 in /usr/local/lib/python3.7/dist-packages (from plotly->catboost) (1.3.3)\n",
            "Installing collected packages: catboost\n",
            "Successfully installed catboost-1.0.0\n",
            "Collecting transformers\n",
            "  Downloading transformers-4.11.3-py3-none-any.whl (2.9 MB)\n",
            "\u001b[K     |████████████████████████████████| 2.9 MB 5.3 MB/s \n",
            "\u001b[?25hCollecting pyyaml>=5.1\n",
            "  Downloading PyYAML-6.0-cp37-cp37m-manylinux_2_5_x86_64.manylinux1_x86_64.manylinux_2_12_x86_64.manylinux2010_x86_64.whl (596 kB)\n",
            "\u001b[K     |████████████████████████████████| 596 kB 44.0 MB/s \n",
            "\u001b[?25hRequirement already satisfied: tqdm>=4.27 in /usr/local/lib/python3.7/dist-packages (from transformers) (4.62.3)\n",
            "Requirement already satisfied: requests in /usr/local/lib/python3.7/dist-packages (from transformers) (2.23.0)\n",
            "Requirement already satisfied: importlib-metadata in /usr/local/lib/python3.7/dist-packages (from transformers) (4.8.1)\n",
            "Requirement already satisfied: numpy>=1.17 in /usr/local/lib/python3.7/dist-packages (from transformers) (1.19.5)\n",
            "Collecting tokenizers<0.11,>=0.10.1\n",
            "  Downloading tokenizers-0.10.3-cp37-cp37m-manylinux_2_5_x86_64.manylinux1_x86_64.manylinux_2_12_x86_64.manylinux2010_x86_64.whl (3.3 MB)\n",
            "\u001b[K     |████████████████████████████████| 3.3 MB 40.5 MB/s \n",
            "\u001b[?25hCollecting huggingface-hub>=0.0.17\n",
            "  Downloading huggingface_hub-0.0.19-py3-none-any.whl (56 kB)\n",
            "\u001b[K     |████████████████████████████████| 56 kB 4.4 MB/s \n",
            "\u001b[?25hRequirement already satisfied: packaging>=20.0 in /usr/local/lib/python3.7/dist-packages (from transformers) (21.0)\n",
            "Requirement already satisfied: regex!=2019.12.17 in /usr/local/lib/python3.7/dist-packages (from transformers) (2019.12.20)\n",
            "Requirement already satisfied: filelock in /usr/local/lib/python3.7/dist-packages (from transformers) (3.3.0)\n",
            "Collecting sacremoses\n",
            "  Downloading sacremoses-0.0.46-py3-none-any.whl (895 kB)\n",
            "\u001b[K     |████████████████████████████████| 895 kB 33.5 MB/s \n",
            "\u001b[?25hRequirement already satisfied: typing-extensions in /usr/local/lib/python3.7/dist-packages (from huggingface-hub>=0.0.17->transformers) (3.7.4.3)\n",
            "Requirement already satisfied: pyparsing>=2.0.2 in /usr/local/lib/python3.7/dist-packages (from packaging>=20.0->transformers) (2.4.7)\n",
            "Requirement already satisfied: zipp>=0.5 in /usr/local/lib/python3.7/dist-packages (from importlib-metadata->transformers) (3.6.0)\n",
            "Requirement already satisfied: chardet<4,>=3.0.2 in /usr/local/lib/python3.7/dist-packages (from requests->transformers) (3.0.4)\n",
            "Requirement already satisfied: idna<3,>=2.5 in /usr/local/lib/python3.7/dist-packages (from requests->transformers) (2.10)\n",
            "Requirement already satisfied: certifi>=2017.4.17 in /usr/local/lib/python3.7/dist-packages (from requests->transformers) (2021.5.30)\n",
            "Requirement already satisfied: urllib3!=1.25.0,!=1.25.1,<1.26,>=1.21.1 in /usr/local/lib/python3.7/dist-packages (from requests->transformers) (1.24.3)\n",
            "Requirement already satisfied: joblib in /usr/local/lib/python3.7/dist-packages (from sacremoses->transformers) (1.0.1)\n",
            "Requirement already satisfied: six in /usr/local/lib/python3.7/dist-packages (from sacremoses->transformers) (1.15.0)\n",
            "Requirement already satisfied: click in /usr/local/lib/python3.7/dist-packages (from sacremoses->transformers) (7.1.2)\n",
            "Installing collected packages: pyyaml, tokenizers, sacremoses, huggingface-hub, transformers\n",
            "  Attempting uninstall: pyyaml\n",
            "    Found existing installation: PyYAML 3.13\n",
            "    Uninstalling PyYAML-3.13:\n",
            "      Successfully uninstalled PyYAML-3.13\n",
            "Successfully installed huggingface-hub-0.0.19 pyyaml-6.0 sacremoses-0.0.46 tokenizers-0.10.3 transformers-4.11.3\n",
            "Collecting sentencepiece\n",
            "  Downloading sentencepiece-0.1.96-cp37-cp37m-manylinux_2_17_x86_64.manylinux2014_x86_64.whl (1.2 MB)\n",
            "\u001b[K     |████████████████████████████████| 1.2 MB 5.3 MB/s \n",
            "\u001b[?25hInstalling collected packages: sentencepiece\n",
            "Successfully installed sentencepiece-0.1.96\n",
            "Requirement already satisfied: torch in /usr/local/lib/python3.7/dist-packages (1.9.0+cu111)\n",
            "Requirement already satisfied: typing-extensions in /usr/local/lib/python3.7/dist-packages (from torch) (3.7.4.3)\n"
          ]
        }
      ]
    },
    {
      "cell_type": "code",
      "metadata": {
        "id": "4mnu-qxZ3kSh"
      },
      "source": [
        "def set_seed(seed):\n",
        "    \"\"\" Set all seeds to make results reproducible \"\"\"\n",
        "    torch.manual_seed(seed)\n",
        "    torch.cuda.manual_seed_all(seed)\n",
        "    torch.backends.cudnn.deterministic = True\n",
        "    torch.backends.cudnn.benchmark = False\n",
        "    np.random.seed(seed)\n",
        "    random.seed(seed)\n",
        "    os.environ['PYTHONHASHSEED'] = str(seed)\n",
        "    "
      ],
      "execution_count": 51,
      "outputs": []
    },
    {
      "cell_type": "code",
      "metadata": {
        "id": "NaMQ4lMJ30rc"
      },
      "source": [
        "import numpy as np\n",
        "import pandas as pd\n",
        "\n",
        "from sklearn.compose import ColumnTransformer\n",
        "from sklearn.linear_model import LogisticRegression\n",
        "from sklearn.model_selection import train_test_split, GridSearchCV, cross_validate\n",
        "from sklearn.pipeline import Pipeline\n",
        "from sklearn.preprocessing import StandardScaler, OneHotEncoder\n",
        "from sklearn.metrics import accuracy_score, roc_auc_score, f1_score, recall_score, precision_score\n",
        "import catboost\n",
        "import seaborn as sns\n",
        "import warnings\n",
        "import re\n",
        "import itertools\n",
        "#from simpletransformers import model\n",
        "warnings.filterwarnings(\"ignore\")\n",
        "import os\n",
        "import matplotlib.pyplot as plt\n",
        "from copy import deepcopy\n",
        "import random\n",
        "import numpy as np\n",
        "import pandas as pd\n",
        "\n",
        "import torch\n",
        "import torch.nn as nn\n",
        "import torch.optim as optim\n",
        "from torch.utils.data import DataLoader, Dataset\n",
        "from torch.cuda.amp import autocast, GradScaler\n",
        "from tqdm import tqdm\n",
        "\n",
        "from transformers import AutoTokenizer, AutoModel, AdamW, get_linear_schedule_with_warmup\n",
        "from sklearn.feature_extraction.text import TfidfVectorizer\n",
        "from sklearn.decomposition import PCA\n",
        "\n",
        "# from datasets import load_dataset, load_metric\n",
        "import torch.nn as nn\n",
        "os.environ[\"TOKENIZERS_PARALLELISM\"] = \"false\"\n",
        "set_seed(42)"
      ],
      "execution_count": 52,
      "outputs": []
    },
    {
      "cell_type": "markdown",
      "metadata": {
        "id": "xAYCMFj7CTGr"
      },
      "source": [
        "#Обработка комментариев\n"
      ]
    },
    {
      "cell_type": "code",
      "metadata": {
        "id": "9xHy3JqI35iF"
      },
      "source": [
        "#Принимает на вход строку комментария и преобразует её в список причин и комментарий к водителю (если то и то есть вообще)\n",
        "def parse_comment(comment):\n",
        "  if comment[-1] == ';':\n",
        "    comment = comment[:-1]\n",
        "    \n",
        "  comment = comment.replace('\\n', '')\n",
        "  arr = comment[9:]\n",
        "  passanger_comment = \"\"\n",
        "  causes = []\n",
        "\n",
        "  if \"Комментарий\" in arr and \"Причина:\" in arr:\n",
        "    arr = arr.split(\"Причина:\")\n",
        "    passanger_comment = arr[0][13:]\n",
        "    causes = arr[1][1:].split('; ')\n",
        "\n",
        "  elif \"Комментарий\" in arr:\n",
        "    passanger_comment = arr[13:]\n",
        "\n",
        "  if \"Причина:\" in arr:\n",
        "    causes = arr[9:].split('; ')  \n",
        "  \n",
        "  return passanger_comment, causes\n",
        "\n",
        "#Получает на вход датасет и выдает все типы причин, которые встречались\n",
        "def get_all_categories(comments):\n",
        "  all_categories = set()\n",
        "  for i in range(comments.shape[0]):\n",
        "    for cause in parse_comment(comments[\"comment\"][i])[1]:\n",
        "      prov = True\n",
        "      for k in all_categories:\n",
        "        if cause in k:\n",
        "          prov = False\n",
        "          break\n",
        "      if prov:\n",
        "        all_categories.add(cause)\n",
        "  return all_categories\n",
        "\n",
        "#Принимает на вход датафрейм с комментами словарь из категорий,  \n",
        "#то есть тк данные были записаны в разное время появляются одни и те же категорий\n",
        "#записанные в разной форме, например, \"Водитель был без маски\" и \"Водитель не надел маску\"\n",
        "#return: датафрейм с новыми колонками - комментарий к заказу и причины, закодированные one-hot encoding вектором\n",
        "def get_categories_for_data(comments, all_categories_dict):\n",
        "  passanger_comments = pd.DataFrame()\n",
        "\n",
        "  for cause in set(all_categories_dict.values()):\n",
        "    passanger_comments[cause] = [0] * comments.shape[0]\n",
        "  passanger_comments[\"passanger_comment\"] = [\"\"] * comments.shape[0]\n",
        "  passanger_comments[\"id_order\"] = comments[\"id_order\"]\n",
        "  \n",
        "  for i in tqdm(range(passanger_comments.shape[0])):\n",
        "\n",
        "    if len(comments[\"comment\"][i]) <= 11:\n",
        "      continue\n",
        "    passanger_comment, causes = parse_comment(comments[\"comment\"][i])\n",
        "    \n",
        "    for cause in causes:\n",
        "      prov = True\n",
        "      for k in all_categories_dict.values():\n",
        "        if cause in k:\n",
        "          passanger_comments[all_categories_dict[k]][i] = 1\n",
        "          break\n",
        "    passanger_comments[\"passanger_comment\"][i] = passanger_comment\n",
        "\n",
        "  return passanger_comments    "
      ],
      "execution_count": 53,
      "outputs": []
    },
    {
      "cell_type": "code",
      "metadata": {
        "id": "LNSzQKDj35ol"
      },
      "source": [
        "all_categories = {'В машине плохо пахло': 'В машине плохо пахло',\n",
        " 'Водитель был без маски': 'Водитель был без маски',\n",
        " 'Водитель был невежлив': 'Водитель был невежлив',\n",
        " 'Водитель вежливый': 'Водитель вежливый',\n",
        " 'Водитель знает город': 'Водитель знает город',\n",
        " 'Водитель не надел маску': 'Водитель был без маски',\n",
        " 'Водитель опасно вёл': 'Неаккуратное вождение',\n",
        " 'Знание города': 'Водитель знает город',\n",
        " 'Классная музыка': 'Классная музыка',\n",
        " 'Комфортная поездка': 'Комфортная поездка',\n",
        " 'Манера вождения': 'Манера вождения',\n",
        " 'Машина ниже классом, чем ожидалось': 'Машина ниже классом, чем ожидалось',\n",
        " 'Не тот номер автомобиля': 'Номер машины отличался',\n",
        " 'Неаккуратное вождение': 'Неаккуратное вождение',\n",
        " 'Небезопасное вождение': 'Неаккуратное вождение',\n",
        " 'Номер машины отличался': 'Номер машины отличался',\n",
        " 'Отлично водит': 'Отлично водит',\n",
        " 'Поведение водителя': 'Поведение водителя',\n",
        " 'Подача машины не туда': 'Подача машины не туда',\n",
        " 'Помощь и забота': 'Помощь и забота',\n",
        " 'Приятное общение': 'Приятное общение',\n",
        " 'Проблемы с приложением': 'Проблемы с приложением',\n",
        " 'Работа приложения': 'Работа приложения',\n",
        " 'Сложности с приложением': 'Проблемы с приложением',\n",
        " 'Состояние машины': 'Состояние машины',\n",
        " 'Стоимость поездки': 'Стоимость поездки',\n",
        " 'Хорошо поговорили': 'Приятное общение',\n",
        " 'Чистота машины': 'Чистота машины'}"
      ],
      "execution_count": 6,
      "outputs": []
    },
    {
      "cell_type": "code",
      "metadata": {
        "id": "HLvK_UzCjPEP"
      },
      "source": [
        "comments = pd.read_csv(\"/content/drive/MyDrive/final/df_cl_rates_on_rides.csv\")"
      ],
      "execution_count": null,
      "outputs": []
    },
    {
      "cell_type": "code",
      "metadata": {
        "id": "f8Bh-NQFEube",
        "colab": {
          "base_uri": "https://localhost:8080/"
        },
        "outputId": "b110cc5b-d55e-4fa0-935d-ac9984fdef97"
      },
      "source": [
        "prepeared_comments = pd.read_csv(\"/content/drive/MyDrive/prepeared_comments.csv\", index_col=0)\n",
        "#prepeared_comments = get_categories_for_data(comments, all_categories)"
      ],
      "execution_count": 47,
      "outputs": [
        {
          "output_type": "stream",
          "name": "stderr",
          "text": [
            "/usr/local/lib/python3.7/dist-packages/numpy/lib/arraysetops.py:580: FutureWarning: elementwise comparison failed; returning scalar instead, but in the future will perform elementwise comparison\n",
            "  mask |= (ar1 == a)\n"
          ]
        }
      ]
    },
    {
      "cell_type": "code",
      "metadata": {
        "id": "basLIe2InCPl"
      },
      "source": [
        "all_drives = pd.read_csv(\"/content/drive/MyDrive/final/df_ride_data.csv\")"
      ],
      "execution_count": null,
      "outputs": []
    },
    {
      "cell_type": "code",
      "metadata": {
        "id": "pHMWRM6t5uai"
      },
      "source": [
        "#возвращает комментарии, которые имеют хотя бы одну причину или комментарий пассажира\n",
        "def get_comments_with_causes(passanger_comments):\n",
        "  order_id_with_comments = []\n",
        "  passanger_comments.index = passanger_comments[\"id_order\"]\n",
        "  for i in tqdm(range(passanger_comments.shape[0])):\n",
        "    if  passanger_comments[\"Водитель был невежлив\"][i] == 1 or passanger_comments[\"Поведение водителя\"][i] == 1 or \\\n",
        "        passanger_comments[\"Отлично водит\"][i] == 1 or passanger_comments[\"Водитель вежливый\"][i] == 1 or \\\n",
        "        passanger_comments[\"Проблемы с приложением\"][i] == 1 or passanger_comments[\"Подача машины не туда\"][i] == 1 or \\\n",
        "        passanger_comments[\"Манера вождения\"][i] == 1 or passanger_comments[\"Помощь и забота\"][i] == 1 or \\\n",
        "        passanger_comments[\"Водитель был без маски\"][i] == 1 or passanger_comments[\"Стоимость поездки\"][i] == 1 or \\\n",
        "        passanger_comments[\"Классная музыка\"][i] == 1 or passanger_comments[\"Водитель знает город\"][i] == 1 or \\\n",
        "        passanger_comments[\"Комфортная поездка\"][i] == 1 or passanger_comments[\"Приятное общение\"][i] == 1 or \\\n",
        "        passanger_comments[\"Состояние машины\"][i] == 1 or passanger_comments[\"Машина ниже классом, чем ожидалось\"][i] == 1 or \\\n",
        "        passanger_comments[\"Чистота машины\"][i] == 1 or passanger_comments[\"Работа приложения\"][i] == 1 or \\\n",
        "        passanger_comments[\"В машине плохо пахло\"][i] == 1 or passanger_comments[\"Неаккуратное вождение\"][i] == 1 or \\\n",
        "        passanger_comments[\"Номер машины отличался\"][i] == 1 or passanger_comments[\"passanger_comment\"][i] != \"\":\n",
        "\n",
        "      order_id_with_comments.append(passanger_comments[\"id_order\"][i])\n",
        "  usefull_comments = passanger_comments.loc[order_id_with_comments]\n",
        "  return usefull_comments\n",
        "\n",
        "#возвращает словарь, в котором ключ это месяц и год, \n",
        "#а значение это словарь из дней этого месяца и количеством поездок в этот день\n",
        "def get_day_with_count_rides(data):\n",
        "    months = set()\n",
        "    dic = {}\n",
        "    for i in tqdm(data[\"dt_15_min\"]):\n",
        "      if not dic.get(i[:7]):\n",
        "          dic[i[:7]] = {}\n",
        "      \n",
        "      prov = True\n",
        "      days = dic[i[:7]]\n",
        "      \n",
        "      for day in days.keys():\n",
        "        if i[:10] == day:\n",
        "          dic[i[:7]][day] += 1\n",
        "          prov = False\n",
        "          break\n",
        "      if prov:\n",
        "        dic[i[:7]][i[:10]] = 1\n",
        "    return dic"
      ],
      "execution_count": 48,
      "outputs": []
    },
    {
      "cell_type": "code",
      "metadata": {
        "id": "yUBptHyeT_Dj"
      },
      "source": [
        "selection_data = pd.read_csv(\"/content/drive/MyDrive/V_rate.csv\")"
      ],
      "execution_count": 180,
      "outputs": []
    },
    {
      "cell_type": "code",
      "metadata": {
        "id": "zg-r-D5AlyWq",
        "colab": {
          "base_uri": "https://localhost:8080/"
        },
        "outputId": "60f5e25c-663f-448f-9b67-6f17e209d189"
      },
      "source": [
        "normal_comments = get_comments_with_causes(prepeared_comments)"
      ],
      "execution_count": 54,
      "outputs": [
        {
          "output_type": "stream",
          "name": "stderr",
          "text": [
            "100%|██████████| 3238726/3238726 [06:21<00:00, 8485.77it/s]\n"
          ]
        }
      ]
    },
    {
      "cell_type": "code",
      "metadata": {
        "colab": {
          "base_uri": "https://localhost:8080/"
        },
        "id": "zsqbQA96DtYV",
        "outputId": "63b79175-25df-4586-bb57-4f41a7a661aa"
      },
      "source": [
        "normal_comments.shape"
      ],
      "execution_count": null,
      "outputs": [
        {
          "output_type": "execute_result",
          "data": {
            "text/plain": [
              "(561572, 25)"
            ]
          },
          "metadata": {},
          "execution_count": 46
        }
      ]
    },
    {
      "cell_type": "code",
      "metadata": {
        "colab": {
          "base_uri": "https://localhost:8080/"
        },
        "id": "_JpYBuyGBq9i",
        "outputId": "6053c600-c84b-45f8-befe-37b3523f51c7"
      },
      "source": [
        "len(set(normal_comments[\"id_order\"]) & set(all_drives[\"id_order\"]))"
      ],
      "execution_count": null,
      "outputs": [
        {
          "output_type": "execute_result",
          "data": {
            "text/plain": [
              "561572"
            ]
          },
          "metadata": {},
          "execution_count": 49
        }
      ]
    },
    {
      "cell_type": "code",
      "metadata": {
        "colab": {
          "base_uri": "https://localhost:8080/"
        },
        "id": "6p8z6aamGUSh",
        "outputId": "76d2c8a8-0bf2-4c01-a39a-3de2ce54a0f6"
      },
      "source": [
        "print(\"Весомых комментариев (%):\", normal_comments.shape[0] / prepeared_comments.shape[0] * 100)"
      ],
      "execution_count": null,
      "outputs": [
        {
          "output_type": "stream",
          "name": "stdout",
          "text": [
            "Весомых комментариев (%): 17.339287114748206\n"
          ]
        }
      ]
    },
    {
      "cell_type": "code",
      "metadata": {
        "colab": {
          "base_uri": "https://localhost:8080/"
        },
        "id": "py3KH9RDGl-x",
        "outputId": "6fc89c34-2d6b-4512-d724-847a2e75be11"
      },
      "source": [
        "count = 0\n",
        "for i in tqdm(range(normal_comments.shape[0])):\n",
        "  if normal_comments[\"passanger_comment\"][i] != \"\":\n",
        "    count += 1\n",
        "print()\n",
        "print(\"Личных комментариев пасссажира (%):\", count / prepeared_comments.shape[0] * 100)"
      ],
      "execution_count": null,
      "outputs": [
        {
          "output_type": "stream",
          "name": "stderr",
          "text": [
            "100%|██████████| 561572/561572 [00:03<00:00, 168686.75it/s]"
          ]
        },
        {
          "output_type": "stream",
          "name": "stdout",
          "text": [
            "\n",
            "Личных комментариев пасссажира: 1.9536076840090826\n"
          ]
        },
        {
          "output_type": "stream",
          "name": "stderr",
          "text": [
            "\n"
          ]
        }
      ]
    },
    {
      "cell_type": "code",
      "metadata": {
        "id": "DdSpeSQ3rB31"
      },
      "source": [
        "#добавляет в data преобразованные комментарии с помощью функции parse_comment\n",
        "#если закинуть сначала комментарии в get_comments_with_causes, будет работать гораздо быстрее\n",
        "def add_comments_inf(data, passanger_comments, causes):\n",
        "  causes = set(causes.values())\n",
        "  for cause in causes - set(\"passanger_comment\"):\n",
        "    data[cause] = [0] * data.shape[0]\n",
        "  data[\"passanger_comment\"] = [\"\"] * data.shape[0]\n",
        "  \n",
        "  passanger_comments.index = passanger_comments[\"id_order\"]\n",
        "  data.index = data[\"id_order\"]\n",
        "  id_orders = set(passanger_comments.index) & set(data[\"id_order\"])\n",
        "  passanger_comments = passanger_comments.loc[id_orders]\n",
        "\n",
        "  for order_id in tqdm(id_orders):\n",
        "    for cause in causes:\n",
        "      data[cause][order_id] = passanger_comments.loc[order_id][cause]\n",
        "    data[\"passanger_comment\"][order_id] = passanger_comments.loc[order_id][\"passanger_comment\"]\n",
        "  data.index = range(data.shape[0]) \n",
        "  return data"
      ],
      "execution_count": 178,
      "outputs": []
    },
    {
      "cell_type": "code",
      "metadata": {
        "id": "xKBPpcE3nY_7"
      },
      "source": [
        "selection_data = add_comments_inf(selection_data, prepeared_comments, all_categories)"
      ],
      "execution_count": null,
      "outputs": []
    },
    {
      "cell_type": "markdown",
      "metadata": {
        "id": "chZYHpQOCagx"
      },
      "source": [
        "# XLM"
      ]
    },
    {
      "cell_type": "code",
      "metadata": {
        "id": "GFQoRfmGCPuG"
      },
      "source": [
        "comment = pd.read_csv(\"drive/MyDrive/Data_rus/final_all_comments.csv\")\n",
        "X_driver_comment = comment[[\"comment\", \"Резкие маневры\"]]\n",
        "X_driver_comment.columns=[\"comment\", \"label\"]\n",
        "X_car_comment = comment[[\"comment\",\"Проблемы с транспортом\"]]\n",
        "X_car_comment.columns=[\"comment\", \"label\"]\n",
        "X_behavior_comment = comment[[\"comment\", \"Агрессивное поведение\"]]\n",
        "X_behavior_comment.columns=[\"comment\", \"label\"]"
      ],
      "execution_count": null,
      "outputs": []
    },
    {
      "cell_type": "code",
      "metadata": {
        "id": "BC0AP2J9Crxz"
      },
      "source": [
        "class SentenceClassifier(nn.Module):\n",
        "\n",
        "    def __init__(self, bert_model=\"sismetanin/xlm_roberta_large-ru-sentiment-rureviews\", freeze_bert=False):\n",
        "        super(SentenceClassifier, self).__init__()\n",
        "        #  Instantiating BERT-based model object\n",
        "        self.bert = AutoModel.from_pretrained(bert_model)\n",
        "        # Freeze bert layers and only train the classification layer weights\n",
        "        if freeze_bert:\n",
        "            for p in self.bert_layer.parameters():\n",
        "                p.requires_grad = False\n",
        "        \n",
        "        self.bert_model = bert_model\n",
        "        \n",
        "        if self.bert_model == \"sismetanin/rubert-toxic-pikabu-2ch\":\n",
        "          D_in, H, D_out = 768, 512, 1\n",
        "        elif self.bert_model == \"sismetanin/xlm_roberta_large-ru-sentiment-rureviews\":\n",
        "          D_in, H, D_out = 1024, 512, 1\n",
        "\n",
        "        self.classifier = nn.Sequential(\n",
        "            nn.Linear(D_in, H),\n",
        "            nn.ReLU(),\n",
        "            nn.Linear(H, D_out)\n",
        "        )\n",
        "\n",
        "    @autocast()  # run in mixed precision\n",
        "    def forward(self, input_ids, attn_masks, token_type_ids):\n",
        "\n",
        "        outputs = self.bert(input_ids, attn_masks, token_type_ids)\n",
        "        \n",
        "        last_hidden_state_cls = outputs[0][:, 0, :]\n",
        "        \n",
        "        logits = self.classifier(last_hidden_state_cls)\n",
        "\n",
        "        return logits"
      ],
      "execution_count": 79,
      "outputs": []
    },
    {
      "cell_type": "code",
      "metadata": {
        "id": "j_ZBf10hCvm2"
      },
      "source": [
        "class CustomDataset(Dataset):\n",
        "\n",
        "    def __init__(self, data, maxlen, with_labels=True, bert_model=\"sismetanin/xlm_roberta_large-ru-sentiment-rureviews\"):\n",
        "\n",
        "        self.data = data  # pandas dataframe\n",
        "        #Initialize the tokenizer\n",
        "        self.tokenizer = AutoTokenizer.from_pretrained(bert_model)  \n",
        "\n",
        "        self.maxlen = maxlen\n",
        "        self.with_labels = with_labels \n",
        "\n",
        "    def __len__(self):\n",
        "        return len(self.data)\n",
        "\n",
        "    def __getitem__(self, index):\n",
        "\n",
        "        # Selecting sentence1 and sentence2 at the specified index in the data frame\n",
        "        sent = str(self.data.loc[index, 'comment'])\n",
        "\n",
        "        # Tokenize the pair of sentences to get token ids, attention masks and token type ids\n",
        "        encoded_pair = self.tokenizer(sent, \n",
        "                                      padding='max_length',  # Pad to max_length\n",
        "                                      truncation=True,  # Truncate to max_length\n",
        "                                      max_length=self.maxlen,  \n",
        "                                      return_tensors='pt', \n",
        "                                      return_token_type_ids=True)  # Return torch.Tensor objects\n",
        "        \n",
        "        token_ids = encoded_pair['input_ids'].squeeze(0)  # tensor of token ids\n",
        "        attn_masks = encoded_pair['attention_mask'].squeeze(0)  # binary tensor with \"0\" for padded values and \"1\" for the other values\n",
        "        token_type_ids = encoded_pair['token_type_ids'].squeeze(0)  # binary tensor with \"0\" for the 1st sentence tokens & \"1\" for the 2nd sentence tokens\n",
        "\n",
        "        if self.with_labels:  # True if the dataset has labels\n",
        "            label = self.data.loc[index, 'label']\n",
        "            return token_ids, attn_masks, token_type_ids, label\n",
        "        else:\n",
        "            return token_ids, attn_masks, token_type_ids"
      ],
      "execution_count": 80,
      "outputs": []
    },
    {
      "cell_type": "code",
      "metadata": {
        "id": "Tp_bVeFBDiMC"
      },
      "source": [
        "def evaluate_loss(net, device, criterion, dataloader):\n",
        "    net.eval()\n",
        "\n",
        "    mean_loss = 0\n",
        "    count = 0\n",
        "    mean_acc = 0\n",
        "\n",
        "    fin_targets=[]\n",
        "    fin_outputs=[]\n",
        "\n",
        "    with torch.no_grad():\n",
        "        for it, (seq, attn_masks, token_type_ids, labels) in enumerate(tqdm(dataloader)):\n",
        "            seq, attn_masks, token_type_ids, labels = \\\n",
        "                seq.to(device), attn_masks.to(device), token_type_ids.to(device), labels.to(device)\n",
        "            logits = net(seq, attn_masks, token_type_ids)\n",
        "\n",
        "            fin_targets.extend(labels.float().cpu().detach().numpy().tolist())\n",
        "            fin_outputs.extend(torch.sigmoid(logits.float()).cpu().detach().numpy().tolist())\n",
        "            count += 1\n",
        "    \n",
        "    lst_out = []\n",
        "    for i in range(len(fin_targets)):\n",
        "      ans = 0\n",
        "      ans = fin_outputs[i][0]\n",
        "      lst_out.append(ans)\n",
        "      fin_targets[i] = int(fin_targets[i])\n",
        "    return roc_auc_score(fin_targets, lst_out)"
      ],
      "execution_count": 81,
      "outputs": []
    },
    {
      "cell_type": "code",
      "metadata": {
        "id": "Vm-1XnlJCybL"
      },
      "source": [
        "def train_bert(net, criterion, opti, lr, lr_scheduler, train_loader, val_loader, epochs, iters_to_accumulate):\n",
        "\n",
        "    best_loss = -1\n",
        "    best_ep = 1\n",
        "    nb_iterations = len(train_loader)\n",
        "    print_every = nb_iterations // 5  # print the training loss 5 times per epoch\n",
        "    iters = []\n",
        "    train_losses = []\n",
        "    val_losses = []\n",
        "\n",
        "    scaler = GradScaler()\n",
        "\n",
        "    for ep in range(epochs):\n",
        "\n",
        "        net.train()\n",
        "        running_loss = 0.0\n",
        "        for it, (seq, attn_masks, token_type_ids, labels) in enumerate(tqdm(train_loader)):\n",
        "\n",
        "            # Converting to cuda tensors\n",
        "            seq, attn_masks, token_type_ids, labels = \\\n",
        "                seq.to(device), attn_masks.to(device), token_type_ids.to(device), labels.to(device)\n",
        "    \n",
        "            # Enables autocasting for the forward pass (model + loss)\n",
        "            with autocast():\n",
        "                # Obtaining the logits from the model\n",
        "                logits = net(seq, attn_masks, token_type_ids)\n",
        "\n",
        "                # Computing loss\n",
        "                loss = criterion(logits.squeeze(-1), labels.float())\n",
        "                loss = loss / iters_to_accumulate  # Normalize the loss because it is averaged\n",
        "\n",
        "            scaler.scale(loss).backward()\n",
        "\n",
        "            if (it + 1) % iters_to_accumulate == 0:\n",
        "\n",
        "                scaler.step(opti)\n",
        "\n",
        "                scaler.update()\n",
        "\n",
        "                lr_scheduler.step()\n",
        "\n",
        "                opti.zero_grad()\n",
        "\n",
        "\n",
        "            running_loss += loss.item()\n",
        "\n",
        "            if (it + 1) % print_every == 0:  # Print training loss information\n",
        "                print()\n",
        "                print(\"Iteration {}/{} of epoch {} complete. Loss : {} \"\n",
        "                      .format(it+1, nb_iterations, ep+1, running_loss / print_every))\n",
        "\n",
        "                running_loss = 0.0\n",
        "\n",
        "\n",
        "    del loss\n",
        "    torch.cuda.empty_cache() "
      ],
      "execution_count": 82,
      "outputs": []
    },
    {
      "cell_type": "code",
      "metadata": {
        "colab": {
          "base_uri": "https://localhost:8080/",
          "height": 145,
          "referenced_widgets": [
            "f7b88fbd94554eeb919a3c8ee05bad5f",
            "bf933b15159349a9915765a7e51c4cef",
            "ced311c9a057400b9fdd4798a880a399",
            "92ff870322fd4c2aa5906864f08c543b",
            "acc72af2b157445f9bb3199b3ccf6759",
            "3d53e4c5882c4ba1ab026e7d450e53b5",
            "081eefecc97d48fd959b2bff179aa135",
            "d987536c08ed4d78915bbdbc370b20fd",
            "56d757a1943d487587e9ceec41e64deb",
            "c2271bbec1a04a5089e58c80c170b196",
            "0e1770940153497d938b9cf164994914",
            "5738b540428949379346c32ba0b046a8",
            "16b936c5478346b59189ba9b3832ff09",
            "63652d81ac6f40b2be9c8ba2f8c7366d",
            "1e4212c513044c1b8b611fa987191d85",
            "3f6fd66b9c92450ba813df23eeb651e9",
            "72658c42598447eabca95365f647beea",
            "edebbe824f9645dda6b8087b59c868e2",
            "1a09f9e7cd9443f0adacdd3ec6da11e4",
            "2187bd2ef1114df397b694a9c4bc5d3c",
            "9d73647d769349ab98d8e647d84fea0f",
            "abf56600c6cc4cdbb4d5e1aa9b6eb753",
            "215aeea6cdd14947b47dc73394227707",
            "e9a104a566404f87a8f38990c9692047",
            "fa3ffdb17d714bd4bc75502809790f3d",
            "3605ddc70e0b4a0aa64093834d492f74",
            "3d4f6979aa9f4d30adb4cc3a80749c03",
            "d2c3c7194c954aa1a7998b688c9ad7ea",
            "bcdf0d7ab220465db6d9103ac9136c05",
            "3444224e9ae344e98aab0272e1ae8712",
            "c870558971ba4a389585521450d88046",
            "1e0404cae5f74f3c83813bd9ce18810d",
            "723ee907d0de418381f0516ec7f0925d",
            "83bfa60161304a2aaffd09314d775a5a",
            "1b482c43717a4ddca61296ba3375e1c0",
            "7ce5043812224520842f7f20f3ba7554",
            "7061e98fc00e4436a27da7cc69068819",
            "ec8a62964cbe4e48b48d837dbae087a1",
            "fdb9a56de57c4bed8d715326fcce1169",
            "0e051bc6ac514c56b972c71e8fedf4a2",
            "6b049f2111434eb38fa7e0d8489ff923",
            "adea7ffd2a254ca4ab726e08f1777c5b",
            "07d9bb67cf9148219773f79bd389545d",
            "cfc3adf3d28642d9a77471c1fb004973"
          ]
        },
        "id": "TmyFDAGnC3Ak",
        "outputId": "b6a815a6-2c02-4139-d838-fa37936c2555"
      },
      "source": [
        "def get_loader(data, bert_model, test_size, maxlen, batch_size):\n",
        "    if batch_size == 0:\n",
        "      train_comment_loader = DataLoader(CustomDataset(data, maxlen, with_labels=True, bert_model=bert_model), batch_size = batch_size, num_workers = 5)\n",
        "      return train_comment_loader, _\n",
        "      \n",
        "    else:\n",
        "      train_comment, val_comment, _, _ = train_test_split(data, data, test_size = test_size, stratify = data[\"label\"])\n",
        "\n",
        "      train_comment.index = range(train_comment.shape[0])\n",
        "      val_comment.index = range(val_comment.shape[0])\n",
        "\n",
        "      train_comment_loader = DataLoader(CustomDataset(train_comment, maxlen, with_labels=True, bert_model=bert_model), batch_size = batch_size, num_workers = 5)\n",
        "      val_comment_loader = DataLoader(CustomDataset(val_comment, maxlen, with_labels=True, bert_model=bert_model), batch_size = batch_size, num_workers = 5)\n",
        "\n",
        "    return train_comment_loader, val_comment_loader\n",
        "\n",
        "\n",
        "test_size = 0.3\n",
        "train_driver_comment_loader, val_driver_comment_loader = get_loader(X_driver_comment, bert_model, test_size, maxlen, bs)\n",
        "\n",
        "train_car_comment_loader, val_car_comment_loader = get_loader(X_car_comment, bert_model, test_size, maxlen, bs)\n",
        "\n",
        "train_behavior_comment_loader, val_behavior_comment_loader = get_loader(X_behavior_comment, bert_model, test_size, maxlen, bs)"
      ],
      "execution_count": null,
      "outputs": [
        {
          "output_type": "display_data",
          "data": {
            "application/vnd.jupyter.widget-view+json": {
              "model_id": "f7b88fbd94554eeb919a3c8ee05bad5f",
              "version_minor": 0,
              "version_major": 2
            },
            "text/plain": [
              "Downloading:   0%|          | 0.00/540 [00:00<?, ?B/s]"
            ]
          },
          "metadata": {}
        },
        {
          "output_type": "display_data",
          "data": {
            "application/vnd.jupyter.widget-view+json": {
              "model_id": "5738b540428949379346c32ba0b046a8",
              "version_minor": 0,
              "version_major": 2
            },
            "text/plain": [
              "Downloading:   0%|          | 0.00/920 [00:00<?, ?B/s]"
            ]
          },
          "metadata": {}
        },
        {
          "output_type": "display_data",
          "data": {
            "application/vnd.jupyter.widget-view+json": {
              "model_id": "215aeea6cdd14947b47dc73394227707",
              "version_minor": 0,
              "version_major": 2
            },
            "text/plain": [
              "Downloading:   0%|          | 0.00/1.57M [00:00<?, ?B/s]"
            ]
          },
          "metadata": {}
        },
        {
          "output_type": "display_data",
          "data": {
            "application/vnd.jupyter.widget-view+json": {
              "model_id": "83bfa60161304a2aaffd09314d775a5a",
              "version_minor": 0,
              "version_major": 2
            },
            "text/plain": [
              "Downloading:   0%|          | 0.00/112 [00:00<?, ?B/s]"
            ]
          },
          "metadata": {}
        }
      ]
    },
    {
      "cell_type": "code",
      "metadata": {
        "id": "DkyYIPqQC1vx"
      },
      "source": [
        "bert_model = \"sismetanin/rubert-toxic-pikabu-2ch\"  # 'albert-base-v2', 'albert-large-v2', 'albert-xlarge-v2', 'albert-xxlarge-v2', 'bert-base-uncased', ...\n",
        "freeze_bert = False  # if True, freeze the encoder weights and only update the classification layer weights\n",
        "maxlen = 150  # maximum length of the tokenized input sentence pair : if greater than \"maxlen\", the input is truncated and else if smaller, the input is padded\n",
        "bs = 4  # batch size\n",
        "iters_to_accumulate = 1  # the gradient accumulation adds gradients over an effective batch of size : bs * iters_to_accumulate. If set to \"1\", you get the usual batch size\n",
        "lr = 0.000005  # learning rate\n",
        "epochs = 3  # number of training epochs\n",
        "device = torch.device(\"cuda:0\" if torch.cuda.is_available() else \"cpu\")\n"
      ],
      "execution_count": 85,
      "outputs": []
    },
    {
      "cell_type": "code",
      "metadata": {
        "colab": {
          "base_uri": "https://localhost:8080/"
        },
        "id": "rx7gUFT6DGAE",
        "outputId": "28aac880-cdfc-4330-9a19-5d61f67f30c2"
      },
      "source": [
        "model_behavior = SentenceClassifier(bert_model).to(device)\n",
        "criterion = nn.BCEWithLogitsLoss()\n",
        "opti = AdamW(model_behavior.parameters(), lr=lr, weight_decay=1e-2)\n",
        "num_warmup_steps = 0 # The number of steps for the warmup phase.\n",
        "num_training_steps = epochs * len(train_car_comment_loader)  # The total number of training steps\n",
        "t_total = (len(train_car_comment_loader) // iters_to_accumulate) * epochs  # Necessary to take into account Gradient accumulation\n",
        "lr_scheduler = get_linear_schedule_with_warmup(optimizer=opti, num_warmup_steps=num_warmup_steps, num_training_steps=t_total)\n",
        "\n",
        "train_bert(model_behavior, criterion, opti, lr, lr_scheduler, train_behavior_comment_loader, val_behavior_comment_loader, epochs, iters_to_accumulate)"
      ],
      "execution_count": null,
      "outputs": [
        {
          "output_type": "stream",
          "name": "stderr",
          "text": [
            "Some weights of the model checkpoint at sismetanin/rubert-toxic-pikabu-2ch were not used when initializing BertModel: ['classifier.bias', 'classifier.weight']\n",
            "- This IS expected if you are initializing BertModel from the checkpoint of a model trained on another task or with another architecture (e.g. initializing a BertForSequenceClassification model from a BertForPreTraining model).\n",
            "- This IS NOT expected if you are initializing BertModel from the checkpoint of a model that you expect to be exactly identical (initializing a BertForSequenceClassification model from a BertForSequenceClassification model).\n",
            " 20%|█▉        | 50/253 [00:30<02:00,  1.69it/s]"
          ]
        },
        {
          "output_type": "stream",
          "name": "stdout",
          "text": [
            "\n",
            "Iteration 50/253 of epoch 1 complete. Loss : 0.6242398172616959 \n"
          ]
        },
        {
          "output_type": "stream",
          "name": "stderr",
          "text": [
            " 40%|███▉      | 100/253 [00:59<01:30,  1.69it/s]"
          ]
        },
        {
          "output_type": "stream",
          "name": "stdout",
          "text": [
            "\n",
            "Iteration 100/253 of epoch 1 complete. Loss : 0.474338920712471 \n"
          ]
        },
        {
          "output_type": "stream",
          "name": "stderr",
          "text": [
            " 59%|█████▉    | 150/253 [01:29<01:00,  1.69it/s]"
          ]
        },
        {
          "output_type": "stream",
          "name": "stdout",
          "text": [
            "\n",
            "Iteration 150/253 of epoch 1 complete. Loss : 0.404773440361023 \n"
          ]
        },
        {
          "output_type": "stream",
          "name": "stderr",
          "text": [
            " 79%|███████▉  | 200/253 [01:58<00:31,  1.68it/s]"
          ]
        },
        {
          "output_type": "stream",
          "name": "stdout",
          "text": [
            "\n",
            "Iteration 200/253 of epoch 1 complete. Loss : 0.3372730531543493 \n"
          ]
        },
        {
          "output_type": "stream",
          "name": "stderr",
          "text": [
            " 99%|█████████▉| 250/253 [02:28<00:01,  1.69it/s]"
          ]
        },
        {
          "output_type": "stream",
          "name": "stdout",
          "text": [
            "\n",
            "Iteration 250/253 of epoch 1 complete. Loss : 0.3903800283372402 \n"
          ]
        },
        {
          "output_type": "stream",
          "name": "stderr",
          "text": [
            "100%|██████████| 253/253 [02:30<00:00,  1.68it/s]\n",
            " 20%|█▉        | 50/253 [00:30<02:00,  1.69it/s]"
          ]
        },
        {
          "output_type": "stream",
          "name": "stdout",
          "text": [
            "\n",
            "Iteration 50/253 of epoch 2 complete. Loss : 0.2933305210620165 \n"
          ]
        },
        {
          "output_type": "stream",
          "name": "stderr",
          "text": [
            " 40%|███▉      | 100/253 [00:59<01:30,  1.69it/s]"
          ]
        },
        {
          "output_type": "stream",
          "name": "stdout",
          "text": [
            "\n",
            "Iteration 100/253 of epoch 2 complete. Loss : 0.2728517314791679 \n"
          ]
        },
        {
          "output_type": "stream",
          "name": "stderr",
          "text": [
            " 59%|█████▉    | 150/253 [01:29<01:01,  1.69it/s]"
          ]
        },
        {
          "output_type": "stream",
          "name": "stdout",
          "text": [
            "\n",
            "Iteration 150/253 of epoch 2 complete. Loss : 0.24298942260444165 \n"
          ]
        },
        {
          "output_type": "stream",
          "name": "stderr",
          "text": [
            " 79%|███████▉  | 200/253 [01:58<00:31,  1.69it/s]"
          ]
        },
        {
          "output_type": "stream",
          "name": "stdout",
          "text": [
            "\n",
            "Iteration 200/253 of epoch 2 complete. Loss : 0.2527421525120735 \n"
          ]
        },
        {
          "output_type": "stream",
          "name": "stderr",
          "text": [
            " 99%|█████████▉| 250/253 [02:28<00:01,  1.69it/s]"
          ]
        },
        {
          "output_type": "stream",
          "name": "stdout",
          "text": [
            "\n",
            "Iteration 250/253 of epoch 2 complete. Loss : 0.267044395133853 \n"
          ]
        },
        {
          "output_type": "stream",
          "name": "stderr",
          "text": [
            "100%|██████████| 253/253 [02:30<00:00,  1.68it/s]\n",
            " 20%|█▉        | 50/253 [00:30<02:00,  1.68it/s]"
          ]
        },
        {
          "output_type": "stream",
          "name": "stdout",
          "text": [
            "\n",
            "Iteration 50/253 of epoch 3 complete. Loss : 0.22858038663864136 \n"
          ]
        },
        {
          "output_type": "stream",
          "name": "stderr",
          "text": [
            " 40%|███▉      | 100/253 [00:59<01:30,  1.69it/s]"
          ]
        },
        {
          "output_type": "stream",
          "name": "stdout",
          "text": [
            "\n",
            "Iteration 100/253 of epoch 3 complete. Loss : 0.19800990015268327 \n"
          ]
        },
        {
          "output_type": "stream",
          "name": "stderr",
          "text": [
            " 59%|█████▉    | 150/253 [01:29<01:01,  1.68it/s]"
          ]
        },
        {
          "output_type": "stream",
          "name": "stdout",
          "text": [
            "\n",
            "Iteration 150/253 of epoch 3 complete. Loss : 0.18954199314117431 \n"
          ]
        },
        {
          "output_type": "stream",
          "name": "stderr",
          "text": [
            " 79%|███████▉  | 200/253 [01:59<00:31,  1.69it/s]"
          ]
        },
        {
          "output_type": "stream",
          "name": "stdout",
          "text": [
            "\n",
            "Iteration 200/253 of epoch 3 complete. Loss : 0.19598325166851283 \n"
          ]
        },
        {
          "output_type": "stream",
          "name": "stderr",
          "text": [
            " 99%|█████████▉| 250/253 [02:28<00:01,  1.69it/s]"
          ]
        },
        {
          "output_type": "stream",
          "name": "stdout",
          "text": [
            "\n",
            "Iteration 250/253 of epoch 3 complete. Loss : 0.21168798282742501 \n"
          ]
        },
        {
          "output_type": "stream",
          "name": "stderr",
          "text": [
            "100%|██████████| 253/253 [02:30<00:00,  1.68it/s]\n"
          ]
        }
      ]
    },
    {
      "cell_type": "code",
      "metadata": {
        "colab": {
          "base_uri": "https://localhost:8080/"
        },
        "id": "tep9hHdXC82m",
        "outputId": "e539c09e-e16c-446b-8ae1-7dfd8f1a1ba3"
      },
      "source": [
        "#bert_model = \"sismetanin/xlm_roberta_large-ru-sentiment-rureviews\"\n",
        "#model_driver = SentenceClassifier(bert_model).to(device)\n",
        "#model_driver.load_state_dict(torch.load('/content/drive/MyDrive/cause_nets/net_driver.pt'))# if you want load pretrained model\n",
        "#model_car = SentenceClassifier(bert_model).to(device)\n",
        "#model_car.load_state_dict(torch.load('/content/drive/MyDrive/cause_nets/net_car.pt'))# if you want load pretrained model\n",
        "#model_behavior = SentenceClassifier(bert_model).to(device)\n",
        "#model_behavior.load_state_dict(torch.load('/content/drive/MyDrive/cause_nets/net_behavior.pt'))# if you want load pretrained model\n",
        "\n",
        "bert_model = \"sismetanin/rubert-toxic-pikabu-2ch\"\n",
        "model_driver = SentenceClassifier(bert_model).to(device)\n",
        "model_driver.load_state_dict(torch.load('drive/MyDrive/sismetanin\\rubert-toxic-pikabu-2ch_net_driver.pt'))# if you want load pretrained model\n",
        "model_car = SentenceClassifier(bert_model).to(device)\n",
        "model_car.load_state_dict(torch.load('drive/MyDrive/sismetanin\\rubert-toxic-pikabu-2ch_net_car.pt'))# if you want load pretrained model\n",
        "model_behavior = SentenceClassifier(bert_model).to(device)\n",
        "model_behavior.load_state_dict(torch.load('drive/MyDrive/sismetanin\\rubert-toxic-pikabu-2ch_net_behavior.pt'))# if you want load pretrained model"
      ],
      "execution_count": 86,
      "outputs": [
        {
          "output_type": "stream",
          "name": "stderr",
          "text": [
            "Some weights of the model checkpoint at sismetanin/rubert-toxic-pikabu-2ch were not used when initializing BertModel: ['classifier.weight', 'classifier.bias']\n",
            "- This IS expected if you are initializing BertModel from the checkpoint of a model trained on another task or with another architecture (e.g. initializing a BertForSequenceClassification model from a BertForPreTraining model).\n",
            "- This IS NOT expected if you are initializing BertModel from the checkpoint of a model that you expect to be exactly identical (initializing a BertForSequenceClassification model from a BertForSequenceClassification model).\n",
            "Some weights of the model checkpoint at sismetanin/rubert-toxic-pikabu-2ch were not used when initializing BertModel: ['classifier.weight', 'classifier.bias']\n",
            "- This IS expected if you are initializing BertModel from the checkpoint of a model trained on another task or with another architecture (e.g. initializing a BertForSequenceClassification model from a BertForPreTraining model).\n",
            "- This IS NOT expected if you are initializing BertModel from the checkpoint of a model that you expect to be exactly identical (initializing a BertForSequenceClassification model from a BertForSequenceClassification model).\n",
            "Some weights of the model checkpoint at sismetanin/rubert-toxic-pikabu-2ch were not used when initializing BertModel: ['classifier.weight', 'classifier.bias']\n",
            "- This IS expected if you are initializing BertModel from the checkpoint of a model trained on another task or with another architecture (e.g. initializing a BertForSequenceClassification model from a BertForPreTraining model).\n",
            "- This IS NOT expected if you are initializing BertModel from the checkpoint of a model that you expect to be exactly identical (initializing a BertForSequenceClassification model from a BertForSequenceClassification model).\n"
          ]
        },
        {
          "output_type": "execute_result",
          "data": {
            "text/plain": [
              "<All keys matched successfully>"
            ]
          },
          "metadata": {},
          "execution_count": 86
        }
      ]
    },
    {
      "cell_type": "code",
      "metadata": {
        "colab": {
          "base_uri": "https://localhost:8080/"
        },
        "id": "r1jccQjhOUSj",
        "outputId": "e3807e15-5376-4028-cc0a-b5b18d3fc839"
      },
      "source": [
        "evaluate_loss(model_driver, device, criterion, val_driver_comment_loader)"
      ],
      "execution_count": null,
      "outputs": [
        {
          "output_type": "stream",
          "name": "stderr",
          "text": [
            "100%|██████████| 109/109 [00:20<00:00,  5.40it/s]\n"
          ]
        },
        {
          "output_type": "execute_result",
          "data": {
            "text/plain": [
              "0.9581314354936402"
            ]
          },
          "metadata": {},
          "execution_count": 34
        }
      ]
    },
    {
      "cell_type": "code",
      "metadata": {
        "colab": {
          "base_uri": "https://localhost:8080/"
        },
        "id": "_F3rqhsBOsIz",
        "outputId": "b7a99777-0447-48bd-eda8-cea7a55071c7"
      },
      "source": [
        "evaluate_loss(model_behavior, device, criterion, val_behavior_comment_loader)"
      ],
      "execution_count": null,
      "outputs": [
        {
          "output_type": "stream",
          "name": "stderr",
          "text": [
            "100%|██████████| 109/109 [00:19<00:00,  5.62it/s]\n"
          ]
        },
        {
          "output_type": "execute_result",
          "data": {
            "text/plain": [
              "0.9495696611081227"
            ]
          },
          "metadata": {},
          "execution_count": 38
        }
      ]
    },
    {
      "cell_type": "code",
      "metadata": {
        "colab": {
          "base_uri": "https://localhost:8080/"
        },
        "id": "OxXeYDQZOxMz",
        "outputId": "e143d3ef-832c-4706-bcb0-d31fecc6ca24"
      },
      "source": [
        "evaluate_loss(model_car, device, criterion, val_car_comment_loader)"
      ],
      "execution_count": null,
      "outputs": [
        {
          "output_type": "stream",
          "name": "stderr",
          "text": [
            "100%|██████████| 109/109 [00:19<00:00,  5.65it/s]\n"
          ]
        },
        {
          "output_type": "execute_result",
          "data": {
            "text/plain": [
              "0.9462962962962963"
            ]
          },
          "metadata": {},
          "execution_count": 36
        }
      ]
    },
    {
      "cell_type": "code",
      "metadata": {
        "id": "xdROjAPQROqC"
      },
      "source": [
        "net_copy = deepcopy(model_behavior) \n",
        "path_to_model = 'drive/MyDrive/sismetanin\\rubert-toxic-pikabu-2ch_net_behavior.pt'\n",
        "torch.save(net_copy.state_dict(), path_to_model)"
      ],
      "execution_count": null,
      "outputs": []
    },
    {
      "cell_type": "markdown",
      "metadata": {
        "id": "xgl2hJ4pGau2"
      },
      "source": [
        "# Дополнительная обработка"
      ]
    },
    {
      "cell_type": "code",
      "metadata": {
        "id": "n8k-BG2PByUl"
      },
      "source": [
        "#поступают на вход данные с поездками, 3 модели определения причины, и максимальная длина\n",
        "#возвращает данные с новыми столбцами вероятностей причин плохой поездки по комментарию, если он есть\n",
        "def get_probability_comment(data, model_driver, model_behavior, model_car, max_len):\n",
        "\n",
        "  data[\"probability_driver\"] = [0.0] * data.shape[0]\n",
        "  data[\"probability_behavior\"] = [0.0] * data.shape[0]\n",
        "  data[\"probability_car\"] = [0.0] * data.shape[0]\n",
        "  data[\"comment\"] = data[\"passanger_comment\"]\n",
        "  comments = CustomDataset(data, maxlen = maxlen, with_labels=False, bert_model=bert_model)\n",
        "  for it in tqdm(range(data.shape[0])):\n",
        "    if data[\"passanger_comment\"][it] != \"\":\n",
        "      seq, attn_masks, token_type_ids = comments[it]\n",
        "      \n",
        "      seq, attn_masks, token_type_ids  = seq.to(device).reshape(1, -1), attn_masks.to(device).reshape(1, -1), token_type_ids.to(device).reshape(1, -1)\n",
        "\n",
        "      probability_driver = torch.sigmoid(model_driver(seq, attn_masks, token_type_ids)).cpu().detach().numpy()\n",
        "      probability_behavior = torch.sigmoid(model_behavior(seq, attn_masks, token_type_ids)).cpu().detach().numpy()\n",
        "      probability_car = torch.sigmoid(model_car(seq, attn_masks, token_type_ids)).cpu().detach().numpy()\n",
        "\n",
        "      if probability_driver > 0.5:\n",
        "        data[\"probability_driver\"][it]   = probability_driver\n",
        "      if probability_behavior > 0.5:\n",
        "        data[\"probability_behavior\"][it] = probability_behavior\n",
        "      if probability_car > 0.5:\n",
        "        data[\"probability_car\"][it]      = probability_car\n",
        "  data = data.drop([\"comment\"], 1)\n",
        "  return data "
      ],
      "execution_count": 134,
      "outputs": []
    },
    {
      "cell_type": "code",
      "metadata": {
        "id": "fz8INv1VCW4s",
        "colab": {
          "base_uri": "https://localhost:8080/"
        },
        "outputId": "c02dd29a-e1fc-456d-8b4d-dfc442dfb0bf"
      },
      "source": [
        "selection_data = get_probability_comment(selection_data, model_driver, model_behavior, model_car, maxlen)"
      ],
      "execution_count": 150,
      "outputs": [
        {
          "output_type": "stream",
          "name": "stderr",
          "text": [
            "100%|██████████| 554936/554936 [03:09<00:00, 2922.32it/s]\n"
          ]
        }
      ]
    },
    {
      "cell_type": "code",
      "metadata": {
        "id": "RdJaftUOB2pH"
      },
      "source": [
        "def get_day_week(arr):\n",
        "    lst = []\n",
        "    for i in arr:\n",
        "        lst.append(int(i.weekday()))\n",
        "    return lst\n",
        "\n",
        "def get_day(arr):\n",
        "    lst = []\n",
        "    for i in arr:\n",
        "        if int(i.month) == 1:\n",
        "            lst.append(int(i.day))\n",
        "        elif int(i.month) == 2:\n",
        "            lst.append(int(i.day) + 31)\n",
        "        elif int(i.month) == 3:\n",
        "            lst.append(int(i.day) + 59)\n",
        "        elif int(i.month) == 4:\n",
        "            lst.append(int(i.day) + 90)\n",
        "        elif int(i.month) == 5:\n",
        "            lst.append(int(i.day) + 120)\n",
        "        elif int(i.month) == 6:\n",
        "            lst.append(int(i.day) + 151)\n",
        "        elif int(i.month) == 7:\n",
        "            lst.append(int(i.day) + 181)\n",
        "        elif int(i.month) == 8:\n",
        "            lst.append(int(i.day) + 212)\n",
        "        elif int(i.month) == 9:\n",
        "            lst.append(int(i.day) + 242)\n",
        "        elif int(i.month) == 10:\n",
        "            lst.append(int(i.day) + 273)\n",
        "        elif int(i.month) == 11:\n",
        "            lst.append(int(i.day) + 303)\n",
        "    return lst\n",
        "\n",
        "def get_small_day(arr):\n",
        "    lst = []\n",
        "    for i in arr:\n",
        "        lst.append(int(i.day))\n",
        "    return lst\n",
        "def get_year(arr):\n",
        "    lst = []\n",
        "    for i in arr:\n",
        "        lst.append(int(i.year))\n",
        "    return lst\n",
        "\n",
        "def get_month(arr):\n",
        "    lst = []\n",
        "    for i in arr:\n",
        "        lst.append(int(i.month))\n",
        "    return lst\n",
        "\n",
        "def get_minute(arr):\n",
        "    lst = []\n",
        "    for i in arr:\n",
        "        lst.append(i.hour * 60 + i.minute)\n",
        "    return lst\n",
        "\n",
        "def get_hour(arr):\n",
        "    lst = []\n",
        "    for i in arr:\n",
        "        lst.append(i.hour)\n",
        "    return lst\n"
      ],
      "execution_count": 131,
      "outputs": []
    },
    {
      "cell_type": "code",
      "metadata": {
        "id": "hcv4eXAiGoBE"
      },
      "source": [
        "#считает отношение агрессивных поездок ко всем поездкам по дням недели и по часам за последнее количество дней (count_day_before), показывая сложность дня\n",
        "#примечание: можно сделать пересечение дней с часами, то есть давать не за весь день или не за час любого дня, а за определенный час в дне \n",
        "def get_time_situation(data, year, month, big_day, day, week_day, hour, count_day_before):\n",
        "  \n",
        "  today_day = big_day\n",
        "  today_week_day = week_day\n",
        "  data = data[(data.day >= today_day - count_day_before) & (data.day <= today_day)]\n",
        "  mean_mark_hours = []\n",
        "  mean_mark_days = []\n",
        "\n",
        "  for i in range(24):\n",
        "    a = np.mean(data[data.hour == i][\"is_agressive_proba\"]) * 100\n",
        "    mean_mark_hours.append(a)\n",
        "  \n",
        "  for i in range(7):\n",
        "    b = np.mean(data[data.day_week == i][\"is_agressive_proba\"]) * 100\n",
        "    mean_mark_days.append(b)\n",
        "  return np.mean(mean_mark_days), mean_mark_days[today_week_day], np.mean(mean_mark_days), mean_mark_hours[hour]\n",
        "\n",
        "#получает на вход data с поездками, id водителя, и количество поездок \n",
        "#возвращает среднее по последним n поездкам водителя его:\n",
        "#усредненные вероятности по комментариям к предыдущим комментам за n дней\n",
        "def get_driver_comment_situation(data, id_driver, today, day_count_before):\n",
        "\n",
        "    data = data[(data[\"id_driver\"] == id_driver) & (data[\"day\"] > today - count_day_before) & (data[\"day\"] < today)]\n",
        "    probability_drivers = data[data[\"probability_driver\"] != 0]\n",
        "    probability_behaviors = data[data[\"probability_behavior\"] != 0]\n",
        "    probability_cars = data[data[\"probability_car\"] != 0]\n",
        "    \n",
        "    mean_driver = np.mean(probability_drivers[\"probability_driver\"])\n",
        "    mean_behavior = np.mean(probability_behaviors[\"probability_behavior\"])\n",
        "    mean_car = np.mean(probability_cars[\"probability_car\"])\n",
        "        \n",
        "    return mean_driver, mean_behavior, mean_car"
      ],
      "execution_count": 164,
      "outputs": []
    },
    {
      "cell_type": "markdown",
      "metadata": {
        "id": "94hGj_7S7Yyg"
      },
      "source": [
        "# Get_K_rate"
      ]
    },
    {
      "cell_type": "code",
      "metadata": {
        "id": "lFul0seRMHJC"
      },
      "source": [
        "selection_data[\"day\"] = get_day(selection_data[\"dtm_15_min\"])"
      ],
      "execution_count": null,
      "outputs": []
    },
    {
      "cell_type": "code",
      "metadata": {
        "id": "-YGuFzHnS9YE"
      },
      "source": [
        "selection_data = selection_data.merge(all_rides[\"dtm_15_min\"], left_on='id_driver', right_on='id_driver')"
      ],
      "execution_count": null,
      "outputs": []
    },
    {
      "cell_type": "code",
      "metadata": {
        "id": "nooiORXZLNKN"
      },
      "source": [
        "import pandas as pd"
      ],
      "execution_count": 2,
      "outputs": []
    },
    {
      "cell_type": "code",
      "metadata": {
        "id": "05M5FQ69458r"
      },
      "source": [
        "selection_data[\"aggressive_proba\"] = data_with_aggressive[\"aggressive_proba\"]"
      ],
      "execution_count": 166,
      "outputs": []
    },
    {
      "cell_type": "code",
      "metadata": {
        "id": "W22kfZzL5_wP"
      },
      "source": [
        "data_with_aggressive[\"mean_behavior\"] = [0.0] * data_with_aggressive.shape[0]\n",
        "data_with_aggressive[\"mean_driver\"] = [0.0] * data_with_aggressive.shape[0]\n",
        "data_with_aggressive[\"mean_car\"] = [0.0] * data_with_aggressive.shape[0]"
      ],
      "execution_count": 168,
      "outputs": []
    },
    {
      "cell_type": "code",
      "metadata": {
        "id": "ZV6uZzDLUKTC"
      },
      "source": [
        "for i in tqdm(range(selection_data.shape[0])):\n",
        "  selection_data[\"mean_driver\"][i], selection_data[\"mean_car\"][i], selection_data[\"mean_behavior\"][i] = get_driver_comment_situation(selection_data, selection_data[\"id_client\"][i], selection_data[\"day\"][i], 10)"
      ],
      "execution_count": null,
      "outputs": []
    },
    {
      "cell_type": "code",
      "metadata": {
        "id": "zpkmvNy1W__K"
      },
      "source": [
        "selection_data[\"K_rate\"] = [0.0] * selection_data.shape[0]\n",
        "for i in tqdm(range(selection_data.shape[0])):\n",
        "  selection_data[\"K_rate\"][i] = (1 - selection_data[\"aggressive_proba\"][i]) * selection_data[\"driver_rate_ride\"][i] * (1 - (selection_data[\"mean_behavior\"][i] + selection_data[\"mean_driver\"][i] + selection_data[\"mean_car\"][i]))"
      ],
      "execution_count": 174,
      "outputs": []
    },
    {
      "cell_type": "code",
      "metadata": {
        "id": "ZY1M7xkQVg0t"
      },
      "source": [
        "selection_data.to_csv(\"K_rate.csv\")"
      ],
      "execution_count": null,
      "outputs": []
    }
  ]
}