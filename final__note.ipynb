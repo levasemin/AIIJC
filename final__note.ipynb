{
 "cells": [
  {
   "cell_type": "code",
   "execution_count": 1,
   "metadata": {},
   "outputs": [],
   "source": [
    "import pandas as pd\n",
    "import os\n",
    "from tqdm import tqdm\n",
    "import numpy as np"
   ]
  },
  {
   "cell_type": "code",
   "execution_count": 2,
   "metadata": {},
   "outputs": [
    {
     "ename": "FileNotFoundError",
     "evalue": "[WinError 2] Не удается найти указанный файл: 'final'",
     "output_type": "error",
     "traceback": [
      "\u001b[1;31m---------------------------------------------------------------------------\u001b[0m",
      "\u001b[1;31mFileNotFoundError\u001b[0m                         Traceback (most recent call last)",
      "\u001b[1;32m<ipython-input-2-4431c938d12e>\u001b[0m in \u001b[0;36m<module>\u001b[1;34m\u001b[0m\n\u001b[1;32m----> 1\u001b[1;33m \u001b[0mos\u001b[0m\u001b[1;33m.\u001b[0m\u001b[0mchdir\u001b[0m\u001b[1;33m(\u001b[0m\u001b[1;34m'final'\u001b[0m\u001b[1;33m)\u001b[0m\u001b[1;33m\u001b[0m\u001b[1;33m\u001b[0m\u001b[0m\n\u001b[0m",
      "\u001b[1;31mFileNotFoundError\u001b[0m: [WinError 2] Не удается найти указанный файл: 'final'"
     ]
    }
   ],
   "source": [
    "os.chdir('final')"
   ]
  },
  {
   "cell_type": "code",
   "execution_count": 2,
   "metadata": {},
   "outputs": [],
   "source": [
    "#Сбор всех данных в одну выборку\n",
    "#for_train - берет только размеченные данные на агрессивность \n",
    "#to_csv - сохраняет в csv\n",
    "\n",
    "def creadte_dataset(to_csv=False, for_train=False): \n",
    "    df = pd.read_csv('df_ride_data.csv')\n",
    "    df1 = pd.read_csv('df_ride_data_part2.csv')\n",
    "    df = df.append(df1)\n",
    "    \n",
    "    df_mark = pd.read_csv('df_marks.csv')\n",
    "    df_client_rate = pd.read_csv('df_cl_rates_on_rides.csv')\n",
    "    df_driver_rate = pd.read_csv('df_dr_rates_on_rides.csv')\n",
    "    \n",
    "    df = pd.merge(df, df_mark, on='id_order', how='left')\n",
    "    df_mark = pd.DataFrame(None)\n",
    "    \n",
    "    df = pd.merge(df, df_client_rate, on='id_order', how='left')\n",
    "    df_client_rate = pd.DataFrame(None)\n",
    "    \n",
    "    df = pd.merge(df, df_driver_rate, on='id_order', how='left')\n",
    "    df_driver_rate = pd.DataFrame(None)\n",
    "    \n",
    "    df_prev = pd.read_csv('merged_data_driver.csv')[['id_order', 'last_total_dist', 'last_total_time', 'last_total_cnt', \n",
    "                                             'total_dist', 'total_time', 'total_cnt']]\n",
    "    df = pd.merge(df, df_prev, on='id_order', how='left')\n",
    "    df_prev = pd.DataFrame(None)\n",
    "    \n",
    "    df_prev_cl = pd.read_csv('merged_data_client.csv')[['id_order', 'last_total_dist', 'last_total_time', 'last_total_cnt', \n",
    "                                             'total_dist', 'total_time', 'total_cnt']]\n",
    "    df_prev_cl.columns = ['id_order'] + ['cl_' + i for i in df_prev_cl.columns[1:]]\n",
    "    df = pd.merge(df, df_prev_cl, on='id_order', how='left')\n",
    "    df_prev_cl = pd.DataFrame(None)\n",
    "    \n",
    "    if for_train:\n",
    "        df_y = pd.read_csv('df_y.csv')\n",
    "        df_y.columns = ['id_order', 'is_aggressive', 'comment']\n",
    "        df = pd.merge(df_y, df, on='id_order', how='inner')\n",
    "        \n",
    "        df_y = pd.DataFrame(None)\n",
    "    \n",
    "    if to_csv:\n",
    "        df.to_csv('data.csv')\n",
    "        \n",
    "    return df"
   ]
  },
  {
   "cell_type": "code",
   "execution_count": 3,
   "metadata": {},
   "outputs": [],
   "source": [
    "df_train = creadte_dataset(False, True)"
   ]
  },
  {
   "cell_type": "code",
   "execution_count": 4,
   "metadata": {},
   "outputs": [],
   "source": [
    "df_train.to_csv('train_v4.csv')"
   ]
  },
  {
   "cell_type": "code",
   "execution_count": 5,
   "metadata": {},
   "outputs": [],
   "source": [
    "df = creadte_dataset(False, False)"
   ]
  },
  {
   "cell_type": "code",
   "execution_count": 6,
   "metadata": {},
   "outputs": [],
   "source": [
    "def get_day_week(arr):\n",
    "    lst = []\n",
    "    for i in arr:\n",
    "        lst.append(int(i.weekday()))\n",
    "    return lst\n",
    "\n",
    "def get_year(arr):\n",
    "    lst = []\n",
    "    for i in arr:\n",
    "        lst.append(int(i.year))\n",
    "    return lst\n",
    "\n",
    "def get_month(arr):\n",
    "    lst = []\n",
    "    for i in arr:\n",
    "        lst.append(int(i.month))\n",
    "    return lst\n",
    "\n",
    "def get_minute(arr):\n",
    "    lst = []\n",
    "    for i in arr:\n",
    "        lst.append(i.hour * 60 + i.minute)\n",
    "    return lst\n",
    "\n",
    "def get_day(arr):\n",
    "    lst = []\n",
    "    for i in arr:\n",
    "        lst.append(i.timetuple().tm_yday)\n",
    "    return lst\n",
    "\n",
    "def get_country_mark(arr):\n",
    "    lst = [i.split()[0] for i in arr]\n",
    "    return lst\n",
    "\n",
    "def comment_cnt(arr):\n",
    "    lst = []\n",
    "    for i in arr:\n",
    "        lst.append(len(all_comments[all_comments.driver_id == i]))\n",
    "    return lst\n",
    "\n",
    "def is_nigth(arr):\n",
    "    lst = []\n",
    "    for i in arr:\n",
    "        if i.hour < 6 or i.hour >= 23:\n",
    "            lst.append(1)\n",
    "        else:\n",
    "            lst.append(0)\n",
    "    return lst\n",
    "\n",
    "def is_rate(arr): \n",
    "    return [int(i != -1) for i in arr]"
   ]
  },
  {
   "cell_type": "code",
   "execution_count": 7,
   "metadata": {},
   "outputs": [],
   "source": [
    "def prepare_data(data): \n",
    "    data['time'] = pd.to_datetime(data.dt_15_min, infer_datetime_format=True)\n",
    "    \n",
    "    data['day'] = get_day(data['time'])\n",
    "    data['minute'] = get_minute(data['time'])\n",
    "    data['month']= get_month(data['time'])\n",
    "    data['week_day']= get_day_week(data['time'])\n",
    "    data['is_nigth']= is_nigth(data['time'])\n",
    "    \n",
    "    data['avg_speed'] = data['distance'] / (data['duration'] + 1)\n",
    "    data['avg_arrived_speed'] = data['arrived_distance'] / (data['arrived_duration'] + 1)\n",
    "    \n",
    "    \n",
    "    data['is_rate'] = is_rate(data['driver_rate_ride'].fillna(-1).values)\n",
    "    data['driver_rate_ride'] = data['driver_rate_ride'].fillna(4.7)\n",
    "    data['client_rate_ride'] = data['client_rate_ride'].fillna(5.0)\n",
    "    data['mark'] = data['mark'].fillna('none')\n",
    "    \n",
    "    countries = {\"kia\" : \"Корея\", \"volkswagen\" : \"Германия\", \"mercedesbenz\" : \"Германия\", \"hyundai\" : \"Корея\", \n",
    "                        \"skoda\" : \"Чехия\",\n",
    "                        \"renault\" : \"Франция\", \"ford\" : \"США\", \"toyota\" : \"Япония\", \"bmw\" : \"Германия\", \"chevrolet\" : \"США\",\n",
    "                        \"nissan\" : \"Япония\", \"daewoo\" : \"Корея\", \"changan\" : \"Китай\", \"opel\" : \"Германия\", \"lada\" : \"\",\n",
    "                        \"ravon\" : \"Узбекистан\", \n",
    "                        \"lexus\" : \"Япония\", \"lifan\" : \"Китай\", \"mitsubishi\" : \"Япония\", \"lada\" : \"Россия\", \"citroen\" : \"Франция\", \n",
    "                        \"audi\" : \"Германия\", \"mazda\" : \"Япония\", \"brilliance\" : \"Китай\", \"peugeot\" : \"Франция\",\n",
    "                        \"honda\" : \"Япония\", \"genesis\" : \"Корея\", \"geely\" : \"Китай\", \n",
    "                        \"datsun\" : \"Япония\", \"fiat\" : \"Италия\", \"vortex\" : \"Россия\", \n",
    "                        \"jac\" : \"Китай\", \"volvo\" : \"Швеция\", \"dongfeng\":\"Китай\", \"jeep\":\"Америка\", \n",
    "                        \"seat\":\"Испания\", \"iran kondro\": \"Иран\", \"rolls-royce\":\"Англия\", \"ваз\": \"Россия\", \n",
    "                        \"ferrari\":\"Италия\", \"lada (ваз)\":\"Россия\", \"haima\":\"Китай\", \"great wall\":\"Китай\", \"infiniti\":\"Япония\", \"GAC\":\"Китай\", \"smart\":\"Германия\", \n",
    "                         \"suzuki\":\"Япония\", \"saab\":\"швеция\", \"bentley\":\"Англия\", \"pontiac\":\"США\", \"cm3\":\"Россия\", \"hawtai\":\"Китай\", \"hummer\":\"США\", \"rover\":\"Англия\",\n",
    "                         \"batmobile\" : \"Россия\", \"byd\": \"Китай\", \"alpina\":\"Германия\", \"land rover\" : \"германия\", \"уаз\":\"Россия\", \"zotye\":\"Китай\", \"mercury\":\"США\",\n",
    "                         \"subaru\":\"Япония\", \"alfa romeo\":\"Италия\", \"proton\":\"Малазия\", \"hafei\":\"Китай\", \"dacia\":\"Румыния\",\n",
    "                         \"dodge\":\"США\", \"газ\":\"Россия\", \"landwind\":\"Китай\", \"jaguar\":\"Англия\", \"тагаз\":\"Россия\", \"mini\":\"Англия\",\n",
    "                         \"acura\":\"Япония\", \"porsche\":\"Германия\", \"lamborghini\":\"Италия\", \"daihatsu\": \"Япония\",\n",
    "                         \"cadillac\":\"США\", \"москвич\":\"Россия\", \"xin kai\":\"Китай\", \"volga\":\"Россия\", \"иж\":\"Россия\", \"saturn\":\"США\",\n",
    "                         \"заз\":\"Россия\", \"chery\":\"Китай\", \"apal\":\"Германия\", \"faw\":\"Китай\", \"mercedes-benz\":\"Германия\", \"ssangyong\":\"Корея\",\n",
    "                         \"haval\":\"Китай\", \"chrysler\":\"США\", 'none': 'none'}\n",
    "    \n",
    "    data['mark'] = data['mark'].str.lower()\n",
    "    \n",
    "    data['country_mark'] = [countries[i] for i in data['mark'].values]\n",
    "    \n",
    "    data = data.fillna(0)\n",
    "    \n",
    "    return data\n",
    "    "
   ]
  },
  {
   "cell_type": "code",
   "execution_count": 8,
   "metadata": {},
   "outputs": [],
   "source": [
    "df = prepare_data(df)"
   ]
  },
  {
   "cell_type": "markdown",
   "metadata": {},
   "source": [
    "# Обучение"
   ]
  },
  {
   "cell_type": "code",
   "execution_count": 170,
   "metadata": {},
   "outputs": [],
   "source": [
    "df_train = prepare_data(df_train)"
   ]
  },
  {
   "cell_type": "code",
   "execution_count": 161,
   "metadata": {},
   "outputs": [],
   "source": [
    "df_train = pd.read_csv('train_v4.csv')"
   ]
  },
  {
   "cell_type": "code",
   "execution_count": 172,
   "metadata": {},
   "outputs": [],
   "source": [
    "df_tr_stats = pd.read_csv('stats_all_train.csv')[['order_id', 'sum_fast', 'all_path', 'avg_speed']]\n",
    "df_tr_stats.columns = ['id_order'] + df_tr_stats.columns.values[1:].tolist()"
   ]
  },
  {
   "cell_type": "code",
   "execution_count": 173,
   "metadata": {},
   "outputs": [],
   "source": [
    "df_train = pd.merge(df_train, df_tr_stats, on='id_order', how='inner')"
   ]
  },
  {
   "cell_type": "code",
   "execution_count": 175,
   "metadata": {},
   "outputs": [],
   "source": [
    "df_train['sum_fast/all_path'] = df_train['sum_fast'] / df_train['all_path']"
   ]
  },
  {
   "cell_type": "code",
   "execution_count": 182,
   "metadata": {},
   "outputs": [],
   "source": [
    "df_train = df_train.drop(['id_order', 'comment_x', 'dt_15_min', 'dt', 'comment_y', 'id_driver', 'id_client'], axis=1)"
   ]
  },
  {
   "cell_type": "code",
   "execution_count": 184,
   "metadata": {},
   "outputs": [],
   "source": [
    "X = df_train.drop(['is_aggressive'], axis=1)\n",
    "y = df_train['is_aggressive']"
   ]
  },
  {
   "cell_type": "code",
   "execution_count": 190,
   "metadata": {},
   "outputs": [],
   "source": [
    "from sklearn.model_selection import cross_val_score"
   ]
  },
  {
   "cell_type": "code",
   "execution_count": 234,
   "metadata": {},
   "outputs": [
    {
     "name": "stdout",
     "output_type": "stream",
     "text": [
      "0:\tlearn: 0.6893282\ttotal: 47.4ms\tremaining: 4.7s\n",
      "99:\tlearn: 0.6190358\ttotal: 1.22s\tremaining: 0us\n"
     ]
    }
   ],
   "source": [
    "model = catboost.CatBoostClassifier(depth = 2, iterations = 100, l2_leaf_reg = 1, verbose=300, cat_features=['mark', 'country_mark'], auto_class_weights='Balanced', random_seed=2)\n",
    "model.fit(X, y)\n",
    "model.save_model('catboost_model.cbm')"
   ]
  },
  {
   "cell_type": "code",
   "execution_count": 232,
   "metadata": {},
   "outputs": [
    {
     "name": "stdout",
     "output_type": "stream",
     "text": [
      "0.7011357137174627\n"
     ]
    }
   ],
   "source": [
    "model = catboost.CatBoostClassifier(depth = 2, iterations = 100, l2_leaf_reg = 1, verbose=300, cat_features=['mark', 'country_mark'], auto_class_weights='Balanced', random_seed=2)\n",
    "\n",
    "np.mean(cross_val_score(model, X, y, scoring='roc_auc', cv=10))"
   ]
  },
  {
   "cell_type": "markdown",
   "metadata": {},
   "source": [
    "# Усреднение "
   ]
  },
  {
   "cell_type": "code",
   "execution_count": 9,
   "metadata": {},
   "outputs": [],
   "source": [
    "#Усредняет все поездки водителя за N дней после заказа\n",
    "\n",
    "\n",
    "def get_driver_inform(df, order_id, out_params, number_days=7):\n",
    "    order_day = df[df.id_order == order_id].day.values[0]\n",
    "    \n",
    "    driver_id = df[df.id_order == order_id].id_driver.values[0]\n",
    "    \n",
    "    order_time = df[df.id_order == order_id].time.values[0]\n",
    "    \n",
    "    df = df[(order_time >= df.time) & (order_day - df.day <= number_days) & (df.id_driver == driver_id)]\n",
    "    \n",
    "    number_orders = len(df)\n",
    "    \n",
    "    df = np.mean(df[out_params])\n",
    "    \n",
    "    df = pd.DataFrame([df.values.tolist() + [number_orders]], columns=out_params + ['number_orders'])\n",
    "    \n",
    "    return df"
   ]
  },
  {
   "cell_type": "code",
   "execution_count": 23,
   "metadata": {},
   "outputs": [],
   "source": [
    "#Формирует таблица усреднений за все переданные заказы\n",
    "\n",
    "\n",
    "def form_clust_data(df, orders, drivers, out_params, catboost_par,  use_transformers=False, use_tracks_info=False):\n",
    "    \n",
    "    from_file = catboost.CatBoostClassifier(depth = 4, iterations = 300, l2_leaf_reg = 1, verbose=300, cat_features=['mark', 'country_mark'], auto_class_weights='Balanced')\n",
    "\n",
    "    from_file.load_model(\"catboost_model.cbm\")\n",
    "    \n",
    "    df_stats = pd.read_csv('stats_all.csv')[['all_path', 'avg_speed', 'order_id', 'sum_fast']]\n",
    "    df_stats.columns = ['all_path', 'avg_speed', 'id_order', 'sum_fast']\n",
    "    df_stats['sum_fast/all_path'] = df_stats['sum_fast'] / df_stats['all_path']\n",
    "    \n",
    "    df = pd.merge(df_stats, df, on='id_order', how='left')\n",
    "    \n",
    "    df_predict = df[catboost_par]\n",
    "    \n",
    "    df['is_agreesive_proba'] = from_file.predict_proba(df_predict)[:, 1]\n",
    "    \n",
    "    df_predict = pd.DataFrame(None)\n",
    "    \n",
    "    final_df = pd.DataFrame([], columns=out_params + ['number_orders'])\n",
    "    \n",
    "    for order in tqdm(orders):\n",
    "        final_df = final_df.append(get_driver_inform(df, order, out_params))\n",
    "        \n",
    "    final_df['id_order'] = orders\n",
    "    \n",
    "    final_df['id_driver'] = drivers\n",
    "        \n",
    "    return final_df"
   ]
  },
  {
   "cell_type": "code",
   "execution_count": 24,
   "metadata": {},
   "outputs": [],
   "source": [
    "out_params = ['duration', 'distance', 'is_agreesive_proba', 'arrived_distance', 'arrived_duration', 'is_rate', 'avg_speed_x', \n",
    "             'avg_arrived_speed', 'driver_rate_ride', 'client_rate_ride', 'all_path', 'avg_speed_y', 'sum_fast', 'sum_fast/all_path']\n",
    "\n",
    "catboost_par = ['arrived_distance', 'arrived_duration', 'distance', 'duration',\n",
    "       'from_latitude', 'from_longitude', 'to_latitude', 'to_longitude',\n",
    "       'mark', 'driver_rate_ride', 'client_rate_ride', 'last_total_dist',\n",
    "       'last_total_time', 'last_total_cnt', 'total_dist', 'total_time',\n",
    "       'total_cnt', 'cl_last_total_dist', 'cl_last_total_time',\n",
    "       'cl_last_total_cnt', 'cl_total_dist', 'cl_total_time',\n",
    "       'cl_total_cnt', 'time', 'day', 'minute', 'month', 'week_day',\n",
    "       'is_nigth', 'avg_speed_x', 'avg_arrived_speed', 'is_rate',\n",
    "       'country_mark', 'sum_fast', 'all_path', 'avg_speed_y',\n",
    "       'sum_fast/all_path']"
   ]
  },
  {
   "cell_type": "code",
   "execution_count": 18,
   "metadata": {},
   "outputs": [],
   "source": [
    "import catboost"
   ]
  },
  {
   "cell_type": "code",
   "execution_count": 13,
   "metadata": {},
   "outputs": [],
   "source": [
    "df_april = df[(df.day >= 105) & (df.day <= 118)]\n",
    "df_april.to_csv('april_data.csv')\n",
    "new = pd.read_csv('order.csv')"
   ]
  },
  {
   "cell_type": "code",
   "execution_count": 30,
   "metadata": {},
   "outputs": [
    {
     "name": "stderr",
     "output_type": "stream",
     "text": [
      "100%|████████████████████████████████████████████████████████████████████████████████| 100/100 [00:02<00:00, 44.59it/s]\n"
     ]
    }
   ],
   "source": [
    "df1 = form_clust_data(df_april, new.order_id.values, new.id_driver.values,  out_params, catboost_par)"
   ]
  },
  {
   "cell_type": "code",
   "execution_count": 31,
   "metadata": {},
   "outputs": [],
   "source": [
    "def v_rate_coef(numbers):\n",
    "    return np.array([min(max((30 / i), 0.5), 1.5) for i in numbers])"
   ]
  },
  {
   "cell_type": "code",
   "execution_count": 32,
   "metadata": {},
   "outputs": [],
   "source": [
    "def k_rate_coef(numbers): \n",
    "    return np.array([max(min((i/30), 1.5), 0.5) for i in numbers])"
   ]
  },
  {
   "cell_type": "code",
   "execution_count": 35,
   "metadata": {},
   "outputs": [],
   "source": [
    "df1['V_rate'] = v_rate_coef(df1.number_orders.values) * (df1.avg_speed_y.values / 60) * df1['sum_fast/all_path'].values * 10 + 0.1"
   ]
  },
  {
   "cell_type": "code",
   "execution_count": 36,
   "metadata": {},
   "outputs": [],
   "source": [
    "df1.to_csv('V_rate.csv')"
   ]
  },
  {
   "cell_type": "code",
   "execution_count": null,
   "metadata": {},
   "outputs": [],
   "source": []
  }
 ],
 "metadata": {
  "kernelspec": {
   "display_name": "Python 3",
   "language": "python",
   "name": "python3"
  },
  "language_info": {
   "codemirror_mode": {
    "name": "ipython",
    "version": 3
   },
   "file_extension": ".py",
   "mimetype": "text/x-python",
   "name": "python",
   "nbconvert_exporter": "python",
   "pygments_lexer": "ipython3",
   "version": "3.7.7"
  }
 },
 "nbformat": 4,
 "nbformat_minor": 4
}
